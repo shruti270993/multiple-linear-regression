{
 "cells": [
  {
   "cell_type": "code",
   "execution_count": 1,
   "metadata": {},
   "outputs": [],
   "source": [
    "import pandas as pd\n",
    "import numpy as np\n",
    "import matplotlib.pyplot as plt\n",
    "from statsmodels.graphics.regressionplots import influence_plot\n",
    "import statsmodels.formula.api as smf\n",
    "import numpy as np"
   ]
  },
  {
   "cell_type": "code",
   "execution_count": 2,
   "metadata": {},
   "outputs": [],
   "source": [
    "data_df=[]\n",
    "with open(\"C:\\\\Users\\\\usr\\\\Desktop\\\\New folder\\\\Toyota.csv\")as f:\n",
    "    data_df=f.read()"
   ]
  },
  {
   "cell_type": "code",
   "execution_count": 3,
   "metadata": {},
   "outputs": [
    {
     "data": {
      "text/html": [
       "<div>\n",
       "<style scoped>\n",
       "    .dataframe tbody tr th:only-of-type {\n",
       "        vertical-align: middle;\n",
       "    }\n",
       "\n",
       "    .dataframe tbody tr th {\n",
       "        vertical-align: top;\n",
       "    }\n",
       "\n",
       "    .dataframe thead th {\n",
       "        text-align: right;\n",
       "    }\n",
       "</style>\n",
       "<table border=\"1\" class=\"dataframe\">\n",
       "  <thead>\n",
       "    <tr style=\"text-align: right;\">\n",
       "      <th></th>\n",
       "      <th>Id</th>\n",
       "      <th>Model</th>\n",
       "      <th>Price</th>\n",
       "      <th>Age_08_04</th>\n",
       "      <th>Mfg_Month</th>\n",
       "      <th>Mfg_Year</th>\n",
       "      <th>KM</th>\n",
       "      <th>Fuel_Type</th>\n",
       "      <th>HP</th>\n",
       "      <th>Met_Color</th>\n",
       "      <th>...</th>\n",
       "      <th>Central_Lock</th>\n",
       "      <th>Powered_Windows</th>\n",
       "      <th>Power_Steering</th>\n",
       "      <th>Radio</th>\n",
       "      <th>Mistlamps</th>\n",
       "      <th>Sport_Model</th>\n",
       "      <th>Backseat_Divider</th>\n",
       "      <th>Metallic_Rim</th>\n",
       "      <th>Radio_cassette</th>\n",
       "      <th>Tow_Bar</th>\n",
       "    </tr>\n",
       "  </thead>\n",
       "  <tbody>\n",
       "    <tr>\n",
       "      <th>0</th>\n",
       "      <td>1</td>\n",
       "      <td>TOYOTA Corolla 2.0 D4D HATCHB TERRA 2/3-Doors</td>\n",
       "      <td>13500</td>\n",
       "      <td>23</td>\n",
       "      <td>10</td>\n",
       "      <td>2002</td>\n",
       "      <td>46986</td>\n",
       "      <td>Diesel</td>\n",
       "      <td>90</td>\n",
       "      <td>1</td>\n",
       "      <td>...</td>\n",
       "      <td>1</td>\n",
       "      <td>1</td>\n",
       "      <td>1</td>\n",
       "      <td>0</td>\n",
       "      <td>0</td>\n",
       "      <td>0</td>\n",
       "      <td>1</td>\n",
       "      <td>0</td>\n",
       "      <td>0</td>\n",
       "      <td>0</td>\n",
       "    </tr>\n",
       "    <tr>\n",
       "      <th>1</th>\n",
       "      <td>2</td>\n",
       "      <td>TOYOTA Corolla 2.0 D4D HATCHB TERRA 2/3-Doors</td>\n",
       "      <td>13750</td>\n",
       "      <td>23</td>\n",
       "      <td>10</td>\n",
       "      <td>2002</td>\n",
       "      <td>72937</td>\n",
       "      <td>Diesel</td>\n",
       "      <td>90</td>\n",
       "      <td>1</td>\n",
       "      <td>...</td>\n",
       "      <td>1</td>\n",
       "      <td>0</td>\n",
       "      <td>1</td>\n",
       "      <td>0</td>\n",
       "      <td>0</td>\n",
       "      <td>0</td>\n",
       "      <td>1</td>\n",
       "      <td>0</td>\n",
       "      <td>0</td>\n",
       "      <td>0</td>\n",
       "    </tr>\n",
       "    <tr>\n",
       "      <th>2</th>\n",
       "      <td>3</td>\n",
       "      <td>TOYOTA Corolla 2.0 D4D HATCHB TERRA 2/3-Doors</td>\n",
       "      <td>13950</td>\n",
       "      <td>24</td>\n",
       "      <td>9</td>\n",
       "      <td>2002</td>\n",
       "      <td>41711</td>\n",
       "      <td>Diesel</td>\n",
       "      <td>90</td>\n",
       "      <td>1</td>\n",
       "      <td>...</td>\n",
       "      <td>0</td>\n",
       "      <td>0</td>\n",
       "      <td>1</td>\n",
       "      <td>0</td>\n",
       "      <td>0</td>\n",
       "      <td>0</td>\n",
       "      <td>1</td>\n",
       "      <td>0</td>\n",
       "      <td>0</td>\n",
       "      <td>0</td>\n",
       "    </tr>\n",
       "    <tr>\n",
       "      <th>3</th>\n",
       "      <td>4</td>\n",
       "      <td>TOYOTA Corolla 2.0 D4D HATCHB TERRA 2/3-Doors</td>\n",
       "      <td>14950</td>\n",
       "      <td>26</td>\n",
       "      <td>7</td>\n",
       "      <td>2002</td>\n",
       "      <td>48000</td>\n",
       "      <td>Diesel</td>\n",
       "      <td>90</td>\n",
       "      <td>0</td>\n",
       "      <td>...</td>\n",
       "      <td>0</td>\n",
       "      <td>0</td>\n",
       "      <td>1</td>\n",
       "      <td>0</td>\n",
       "      <td>0</td>\n",
       "      <td>0</td>\n",
       "      <td>1</td>\n",
       "      <td>0</td>\n",
       "      <td>0</td>\n",
       "      <td>0</td>\n",
       "    </tr>\n",
       "    <tr>\n",
       "      <th>4</th>\n",
       "      <td>5</td>\n",
       "      <td>TOYOTA Corolla 2.0 D4D HATCHB SOL 2/3-Doors</td>\n",
       "      <td>13750</td>\n",
       "      <td>30</td>\n",
       "      <td>3</td>\n",
       "      <td>2002</td>\n",
       "      <td>38500</td>\n",
       "      <td>Diesel</td>\n",
       "      <td>90</td>\n",
       "      <td>0</td>\n",
       "      <td>...</td>\n",
       "      <td>1</td>\n",
       "      <td>1</td>\n",
       "      <td>1</td>\n",
       "      <td>0</td>\n",
       "      <td>1</td>\n",
       "      <td>0</td>\n",
       "      <td>1</td>\n",
       "      <td>0</td>\n",
       "      <td>0</td>\n",
       "      <td>0</td>\n",
       "    </tr>\n",
       "  </tbody>\n",
       "</table>\n",
       "<p>5 rows × 38 columns</p>\n",
       "</div>"
      ],
      "text/plain": [
       "   Id                                           Model  Price  Age_08_04  \\\n",
       "0   1   TOYOTA Corolla 2.0 D4D HATCHB TERRA 2/3-Doors  13500         23   \n",
       "1   2   TOYOTA Corolla 2.0 D4D HATCHB TERRA 2/3-Doors  13750         23   \n",
       "2   3   TOYOTA Corolla 2.0 D4D HATCHB TERRA 2/3-Doors  13950         24   \n",
       "3   4   TOYOTA Corolla 2.0 D4D HATCHB TERRA 2/3-Doors  14950         26   \n",
       "4   5     TOYOTA Corolla 2.0 D4D HATCHB SOL 2/3-Doors  13750         30   \n",
       "\n",
       "   Mfg_Month  Mfg_Year     KM Fuel_Type  HP  Met_Color  ... Central_Lock  \\\n",
       "0         10      2002  46986    Diesel  90          1  ...            1   \n",
       "1         10      2002  72937    Diesel  90          1  ...            1   \n",
       "2          9      2002  41711    Diesel  90          1  ...            0   \n",
       "3          7      2002  48000    Diesel  90          0  ...            0   \n",
       "4          3      2002  38500    Diesel  90          0  ...            1   \n",
       "\n",
       "   Powered_Windows  Power_Steering  Radio  Mistlamps  Sport_Model  \\\n",
       "0                1               1      0          0            0   \n",
       "1                0               1      0          0            0   \n",
       "2                0               1      0          0            0   \n",
       "3                0               1      0          0            0   \n",
       "4                1               1      0          1            0   \n",
       "\n",
       "   Backseat_Divider  Metallic_Rim  Radio_cassette  Tow_Bar  \n",
       "0                 1             0               0        0  \n",
       "1                 1             0               0        0  \n",
       "2                 1             0               0        0  \n",
       "3                 1             0               0        0  \n",
       "4                 1             0               0        0  \n",
       "\n",
       "[5 rows x 38 columns]"
      ]
     },
     "execution_count": 3,
     "metadata": {},
     "output_type": "execute_result"
    }
   ],
   "source": [
    "# Import .csv file and convert it to a DataFrame object\n",
    "df=pd.read_csv(\"C:\\\\Users\\\\usr\\\\Desktop\\\\New folder\\\\Toyota.csv\",encoding=\"ISO-8859-1\")\n",
    "df.head()\n"
   ]
  },
  {
   "cell_type": "code",
   "execution_count": 4,
   "metadata": {},
   "outputs": [
    {
     "name": "stdout",
     "output_type": "stream",
     "text": [
      "<class 'pandas.core.frame.DataFrame'>\n",
      "RangeIndex: 1436 entries, 0 to 1435\n",
      "Data columns (total 38 columns):\n",
      " #   Column            Non-Null Count  Dtype \n",
      "---  ------            --------------  ----- \n",
      " 0   Id                1436 non-null   int64 \n",
      " 1   Model             1436 non-null   object\n",
      " 2   Price             1436 non-null   int64 \n",
      " 3   Age_08_04         1436 non-null   int64 \n",
      " 4   Mfg_Month         1436 non-null   int64 \n",
      " 5   Mfg_Year          1436 non-null   int64 \n",
      " 6   KM                1436 non-null   int64 \n",
      " 7   Fuel_Type         1436 non-null   object\n",
      " 8   HP                1436 non-null   int64 \n",
      " 9   Met_Color         1436 non-null   int64 \n",
      " 10  Color             1436 non-null   object\n",
      " 11  Automatic         1436 non-null   int64 \n",
      " 12  cc                1436 non-null   int64 \n",
      " 13  Doors             1436 non-null   int64 \n",
      " 14  Cylinders         1436 non-null   int64 \n",
      " 15  Gears             1436 non-null   int64 \n",
      " 16  Quarterly_Tax     1436 non-null   int64 \n",
      " 17  Weight            1436 non-null   int64 \n",
      " 18  Mfr_Guarantee     1436 non-null   int64 \n",
      " 19  BOVAG_Guarantee   1436 non-null   int64 \n",
      " 20  Guarantee_Period  1436 non-null   int64 \n",
      " 21  ABS               1436 non-null   int64 \n",
      " 22  Airbag_1          1436 non-null   int64 \n",
      " 23  Airbag_2          1436 non-null   int64 \n",
      " 24  Airco             1436 non-null   int64 \n",
      " 25  Automatic_airco   1436 non-null   int64 \n",
      " 26  Boardcomputer     1436 non-null   int64 \n",
      " 27  CD_Player         1436 non-null   int64 \n",
      " 28  Central_Lock      1436 non-null   int64 \n",
      " 29  Powered_Windows   1436 non-null   int64 \n",
      " 30  Power_Steering    1436 non-null   int64 \n",
      " 31  Radio             1436 non-null   int64 \n",
      " 32  Mistlamps         1436 non-null   int64 \n",
      " 33  Sport_Model       1436 non-null   int64 \n",
      " 34  Backseat_Divider  1436 non-null   int64 \n",
      " 35  Metallic_Rim      1436 non-null   int64 \n",
      " 36  Radio_cassette    1436 non-null   int64 \n",
      " 37  Tow_Bar           1436 non-null   int64 \n",
      "dtypes: int64(35), object(3)\n",
      "memory usage: 426.4+ KB\n"
     ]
    }
   ],
   "source": [
    "df.info()"
   ]
  },
  {
   "cell_type": "code",
   "execution_count": 5,
   "metadata": {},
   "outputs": [
    {
     "data": {
      "text/plain": [
       "Id                  0\n",
       "Model               0\n",
       "Price               0\n",
       "Age_08_04           0\n",
       "Mfg_Month           0\n",
       "Mfg_Year            0\n",
       "KM                  0\n",
       "Fuel_Type           0\n",
       "HP                  0\n",
       "Met_Color           0\n",
       "Color               0\n",
       "Automatic           0\n",
       "cc                  0\n",
       "Doors               0\n",
       "Cylinders           0\n",
       "Gears               0\n",
       "Quarterly_Tax       0\n",
       "Weight              0\n",
       "Mfr_Guarantee       0\n",
       "BOVAG_Guarantee     0\n",
       "Guarantee_Period    0\n",
       "ABS                 0\n",
       "Airbag_1            0\n",
       "Airbag_2            0\n",
       "Airco               0\n",
       "Automatic_airco     0\n",
       "Boardcomputer       0\n",
       "CD_Player           0\n",
       "Central_Lock        0\n",
       "Powered_Windows     0\n",
       "Power_Steering      0\n",
       "Radio               0\n",
       "Mistlamps           0\n",
       "Sport_Model         0\n",
       "Backseat_Divider    0\n",
       "Metallic_Rim        0\n",
       "Radio_cassette      0\n",
       "Tow_Bar             0\n",
       "dtype: int64"
      ]
     },
     "execution_count": 5,
     "metadata": {},
     "output_type": "execute_result"
    }
   ],
   "source": [
    "df.isna().sum()"
   ]
  },
  {
   "cell_type": "code",
   "execution_count": 6,
   "metadata": {},
   "outputs": [
    {
     "data": {
      "text/html": [
       "<div>\n",
       "<style scoped>\n",
       "    .dataframe tbody tr th:only-of-type {\n",
       "        vertical-align: middle;\n",
       "    }\n",
       "\n",
       "    .dataframe tbody tr th {\n",
       "        vertical-align: top;\n",
       "    }\n",
       "\n",
       "    .dataframe thead th {\n",
       "        text-align: right;\n",
       "    }\n",
       "</style>\n",
       "<table border=\"1\" class=\"dataframe\">\n",
       "  <thead>\n",
       "    <tr style=\"text-align: right;\">\n",
       "      <th></th>\n",
       "      <th>Id</th>\n",
       "      <th>Price</th>\n",
       "      <th>Age_08_04</th>\n",
       "      <th>Mfg_Month</th>\n",
       "      <th>Mfg_Year</th>\n",
       "      <th>KM</th>\n",
       "      <th>HP</th>\n",
       "      <th>Met_Color</th>\n",
       "      <th>Automatic</th>\n",
       "      <th>cc</th>\n",
       "      <th>...</th>\n",
       "      <th>Central_Lock</th>\n",
       "      <th>Powered_Windows</th>\n",
       "      <th>Power_Steering</th>\n",
       "      <th>Radio</th>\n",
       "      <th>Mistlamps</th>\n",
       "      <th>Sport_Model</th>\n",
       "      <th>Backseat_Divider</th>\n",
       "      <th>Metallic_Rim</th>\n",
       "      <th>Radio_cassette</th>\n",
       "      <th>Tow_Bar</th>\n",
       "    </tr>\n",
       "  </thead>\n",
       "  <tbody>\n",
       "    <tr>\n",
       "      <th>Id</th>\n",
       "      <td>1.000000</td>\n",
       "      <td>-0.738250</td>\n",
       "      <td>0.906132</td>\n",
       "      <td>0.043742</td>\n",
       "      <td>-0.919523</td>\n",
       "      <td>0.273298</td>\n",
       "      <td>-0.109375</td>\n",
       "      <td>-0.079713</td>\n",
       "      <td>0.066265</td>\n",
       "      <td>-0.117704</td>\n",
       "      <td>...</td>\n",
       "      <td>-0.238940</td>\n",
       "      <td>-0.236723</td>\n",
       "      <td>-0.091587</td>\n",
       "      <td>-0.010971</td>\n",
       "      <td>-0.139708</td>\n",
       "      <td>-0.028704</td>\n",
       "      <td>-0.136398</td>\n",
       "      <td>-0.022232</td>\n",
       "      <td>-0.011611</td>\n",
       "      <td>0.159171</td>\n",
       "    </tr>\n",
       "    <tr>\n",
       "      <th>Price</th>\n",
       "      <td>-0.738250</td>\n",
       "      <td>1.000000</td>\n",
       "      <td>-0.876590</td>\n",
       "      <td>-0.018138</td>\n",
       "      <td>0.885159</td>\n",
       "      <td>-0.569960</td>\n",
       "      <td>0.314990</td>\n",
       "      <td>0.108905</td>\n",
       "      <td>0.033081</td>\n",
       "      <td>0.126389</td>\n",
       "      <td>...</td>\n",
       "      <td>0.343458</td>\n",
       "      <td>0.356518</td>\n",
       "      <td>0.064275</td>\n",
       "      <td>-0.041887</td>\n",
       "      <td>0.222083</td>\n",
       "      <td>0.164121</td>\n",
       "      <td>0.102569</td>\n",
       "      <td>0.108564</td>\n",
       "      <td>-0.043179</td>\n",
       "      <td>-0.172369</td>\n",
       "    </tr>\n",
       "    <tr>\n",
       "      <th>Age_08_04</th>\n",
       "      <td>0.906132</td>\n",
       "      <td>-0.876590</td>\n",
       "      <td>1.000000</td>\n",
       "      <td>-0.123255</td>\n",
       "      <td>-0.983661</td>\n",
       "      <td>0.505672</td>\n",
       "      <td>-0.156622</td>\n",
       "      <td>-0.108150</td>\n",
       "      <td>0.031717</td>\n",
       "      <td>-0.098084</td>\n",
       "      <td>...</td>\n",
       "      <td>-0.279631</td>\n",
       "      <td>-0.283856</td>\n",
       "      <td>-0.069192</td>\n",
       "      <td>0.013791</td>\n",
       "      <td>-0.126895</td>\n",
       "      <td>-0.110988</td>\n",
       "      <td>-0.116751</td>\n",
       "      <td>-0.040045</td>\n",
       "      <td>0.012857</td>\n",
       "      <td>0.188720</td>\n",
       "    </tr>\n",
       "    <tr>\n",
       "      <th>Mfg_Month</th>\n",
       "      <td>0.043742</td>\n",
       "      <td>-0.018138</td>\n",
       "      <td>-0.123255</td>\n",
       "      <td>1.000000</td>\n",
       "      <td>-0.057416</td>\n",
       "      <td>-0.020630</td>\n",
       "      <td>-0.039312</td>\n",
       "      <td>0.030266</td>\n",
       "      <td>0.009146</td>\n",
       "      <td>0.037387</td>\n",
       "      <td>...</td>\n",
       "      <td>0.010055</td>\n",
       "      <td>0.025185</td>\n",
       "      <td>-0.055495</td>\n",
       "      <td>0.031601</td>\n",
       "      <td>-0.033504</td>\n",
       "      <td>0.052789</td>\n",
       "      <td>0.023245</td>\n",
       "      <td>0.023506</td>\n",
       "      <td>0.032576</td>\n",
       "      <td>-0.042170</td>\n",
       "    </tr>\n",
       "    <tr>\n",
       "      <th>Mfg_Year</th>\n",
       "      <td>-0.919523</td>\n",
       "      <td>0.885159</td>\n",
       "      <td>-0.983661</td>\n",
       "      <td>-0.057416</td>\n",
       "      <td>1.000000</td>\n",
       "      <td>-0.504974</td>\n",
       "      <td>0.164697</td>\n",
       "      <td>0.103310</td>\n",
       "      <td>-0.033567</td>\n",
       "      <td>0.091892</td>\n",
       "      <td>...</td>\n",
       "      <td>0.279490</td>\n",
       "      <td>0.280996</td>\n",
       "      <td>0.079676</td>\n",
       "      <td>-0.019607</td>\n",
       "      <td>0.133737</td>\n",
       "      <td>0.102080</td>\n",
       "      <td>0.113237</td>\n",
       "      <td>0.036022</td>\n",
       "      <td>-0.018844</td>\n",
       "      <td>-0.182206</td>\n",
       "    </tr>\n",
       "    <tr>\n",
       "      <th>KM</th>\n",
       "      <td>0.273298</td>\n",
       "      <td>-0.569960</td>\n",
       "      <td>0.505672</td>\n",
       "      <td>-0.020630</td>\n",
       "      <td>-0.504974</td>\n",
       "      <td>1.000000</td>\n",
       "      <td>-0.333538</td>\n",
       "      <td>-0.080503</td>\n",
       "      <td>-0.081854</td>\n",
       "      <td>0.102683</td>\n",
       "      <td>...</td>\n",
       "      <td>-0.125177</td>\n",
       "      <td>-0.156242</td>\n",
       "      <td>0.007397</td>\n",
       "      <td>0.013661</td>\n",
       "      <td>-0.074327</td>\n",
       "      <td>-0.044784</td>\n",
       "      <td>-0.045658</td>\n",
       "      <td>-0.013599</td>\n",
       "      <td>0.015770</td>\n",
       "      <td>0.084153</td>\n",
       "    </tr>\n",
       "    <tr>\n",
       "      <th>HP</th>\n",
       "      <td>-0.109375</td>\n",
       "      <td>0.314990</td>\n",
       "      <td>-0.156622</td>\n",
       "      <td>-0.039312</td>\n",
       "      <td>0.164697</td>\n",
       "      <td>-0.333538</td>\n",
       "      <td>1.000000</td>\n",
       "      <td>0.058712</td>\n",
       "      <td>0.013144</td>\n",
       "      <td>0.035856</td>\n",
       "      <td>...</td>\n",
       "      <td>0.250122</td>\n",
       "      <td>0.265593</td>\n",
       "      <td>0.048850</td>\n",
       "      <td>0.020998</td>\n",
       "      <td>0.210571</td>\n",
       "      <td>-0.006027</td>\n",
       "      <td>0.010908</td>\n",
       "      <td>0.206784</td>\n",
       "      <td>0.019919</td>\n",
       "      <td>0.068271</td>\n",
       "    </tr>\n",
       "    <tr>\n",
       "      <th>Met_Color</th>\n",
       "      <td>-0.079713</td>\n",
       "      <td>0.108905</td>\n",
       "      <td>-0.108150</td>\n",
       "      <td>0.030266</td>\n",
       "      <td>0.103310</td>\n",
       "      <td>-0.080503</td>\n",
       "      <td>0.058712</td>\n",
       "      <td>1.000000</td>\n",
       "      <td>-0.019335</td>\n",
       "      <td>0.031812</td>\n",
       "      <td>...</td>\n",
       "      <td>0.153307</td>\n",
       "      <td>0.145147</td>\n",
       "      <td>0.086544</td>\n",
       "      <td>0.072756</td>\n",
       "      <td>0.023821</td>\n",
       "      <td>0.003779</td>\n",
       "      <td>0.037741</td>\n",
       "      <td>0.053829</td>\n",
       "      <td>0.071530</td>\n",
       "      <td>0.148536</td>\n",
       "    </tr>\n",
       "    <tr>\n",
       "      <th>Automatic</th>\n",
       "      <td>0.066265</td>\n",
       "      <td>0.033081</td>\n",
       "      <td>0.031717</td>\n",
       "      <td>0.009146</td>\n",
       "      <td>-0.033567</td>\n",
       "      <td>-0.081854</td>\n",
       "      <td>0.013144</td>\n",
       "      <td>-0.019335</td>\n",
       "      <td>1.000000</td>\n",
       "      <td>0.066740</td>\n",
       "      <td>...</td>\n",
       "      <td>-0.002502</td>\n",
       "      <td>-0.005864</td>\n",
       "      <td>-0.004469</td>\n",
       "      <td>-0.014600</td>\n",
       "      <td>0.003077</td>\n",
       "      <td>0.013175</td>\n",
       "      <td>-0.018876</td>\n",
       "      <td>-0.078095</td>\n",
       "      <td>-0.014150</td>\n",
       "      <td>0.018786</td>\n",
       "    </tr>\n",
       "    <tr>\n",
       "      <th>cc</th>\n",
       "      <td>-0.117704</td>\n",
       "      <td>0.126389</td>\n",
       "      <td>-0.098084</td>\n",
       "      <td>0.037387</td>\n",
       "      <td>0.091892</td>\n",
       "      <td>0.102683</td>\n",
       "      <td>0.035856</td>\n",
       "      <td>0.031812</td>\n",
       "      <td>0.066740</td>\n",
       "      <td>1.000000</td>\n",
       "      <td>...</td>\n",
       "      <td>0.072634</td>\n",
       "      <td>0.055299</td>\n",
       "      <td>0.032933</td>\n",
       "      <td>-0.000361</td>\n",
       "      <td>0.017326</td>\n",
       "      <td>-0.035195</td>\n",
       "      <td>-0.055711</td>\n",
       "      <td>0.003236</td>\n",
       "      <td>-0.000470</td>\n",
       "      <td>0.002725</td>\n",
       "    </tr>\n",
       "    <tr>\n",
       "      <th>Doors</th>\n",
       "      <td>-0.130207</td>\n",
       "      <td>0.185326</td>\n",
       "      <td>-0.148359</td>\n",
       "      <td>-0.012069</td>\n",
       "      <td>0.151442</td>\n",
       "      <td>-0.036197</td>\n",
       "      <td>0.092424</td>\n",
       "      <td>0.085243</td>\n",
       "      <td>-0.027654</td>\n",
       "      <td>0.079903</td>\n",
       "      <td>...</td>\n",
       "      <td>0.132092</td>\n",
       "      <td>0.107626</td>\n",
       "      <td>0.059792</td>\n",
       "      <td>-0.008318</td>\n",
       "      <td>0.064705</td>\n",
       "      <td>-0.129881</td>\n",
       "      <td>-0.022542</td>\n",
       "      <td>-0.039555</td>\n",
       "      <td>-0.008265</td>\n",
       "      <td>0.102292</td>\n",
       "    </tr>\n",
       "    <tr>\n",
       "      <th>Cylinders</th>\n",
       "      <td>NaN</td>\n",
       "      <td>NaN</td>\n",
       "      <td>NaN</td>\n",
       "      <td>NaN</td>\n",
       "      <td>NaN</td>\n",
       "      <td>NaN</td>\n",
       "      <td>NaN</td>\n",
       "      <td>NaN</td>\n",
       "      <td>NaN</td>\n",
       "      <td>NaN</td>\n",
       "      <td>...</td>\n",
       "      <td>NaN</td>\n",
       "      <td>NaN</td>\n",
       "      <td>NaN</td>\n",
       "      <td>NaN</td>\n",
       "      <td>NaN</td>\n",
       "      <td>NaN</td>\n",
       "      <td>NaN</td>\n",
       "      <td>NaN</td>\n",
       "      <td>NaN</td>\n",
       "      <td>NaN</td>\n",
       "    </tr>\n",
       "    <tr>\n",
       "      <th>Gears</th>\n",
       "      <td>-0.043343</td>\n",
       "      <td>0.063104</td>\n",
       "      <td>-0.005364</td>\n",
       "      <td>-0.013063</td>\n",
       "      <td>0.007766</td>\n",
       "      <td>0.015023</td>\n",
       "      <td>0.209477</td>\n",
       "      <td>0.018601</td>\n",
       "      <td>-0.098555</td>\n",
       "      <td>0.014629</td>\n",
       "      <td>...</td>\n",
       "      <td>0.126964</td>\n",
       "      <td>0.131423</td>\n",
       "      <td>0.021200</td>\n",
       "      <td>0.015090</td>\n",
       "      <td>0.238789</td>\n",
       "      <td>0.174117</td>\n",
       "      <td>0.076705</td>\n",
       "      <td>0.295077</td>\n",
       "      <td>0.015397</td>\n",
       "      <td>-0.029357</td>\n",
       "    </tr>\n",
       "    <tr>\n",
       "      <th>Quarterly_Tax</th>\n",
       "      <td>-0.240821</td>\n",
       "      <td>0.219197</td>\n",
       "      <td>-0.198431</td>\n",
       "      <td>0.031373</td>\n",
       "      <td>0.193934</td>\n",
       "      <td>0.278165</td>\n",
       "      <td>-0.298432</td>\n",
       "      <td>0.011326</td>\n",
       "      <td>-0.055371</td>\n",
       "      <td>0.306996</td>\n",
       "      <td>...</td>\n",
       "      <td>0.032084</td>\n",
       "      <td>0.003827</td>\n",
       "      <td>0.047956</td>\n",
       "      <td>-0.031816</td>\n",
       "      <td>0.024024</td>\n",
       "      <td>0.067525</td>\n",
       "      <td>0.198419</td>\n",
       "      <td>-0.011965</td>\n",
       "      <td>-0.031009</td>\n",
       "      <td>-0.004988</td>\n",
       "    </tr>\n",
       "    <tr>\n",
       "      <th>Weight</th>\n",
       "      <td>-0.414500</td>\n",
       "      <td>0.581198</td>\n",
       "      <td>-0.470253</td>\n",
       "      <td>-0.002167</td>\n",
       "      <td>0.473478</td>\n",
       "      <td>-0.028598</td>\n",
       "      <td>0.089614</td>\n",
       "      <td>0.057929</td>\n",
       "      <td>0.057249</td>\n",
       "      <td>0.335637</td>\n",
       "      <td>...</td>\n",
       "      <td>0.234644</td>\n",
       "      <td>0.213356</td>\n",
       "      <td>0.047849</td>\n",
       "      <td>-0.038407</td>\n",
       "      <td>0.135236</td>\n",
       "      <td>0.125974</td>\n",
       "      <td>0.036446</td>\n",
       "      <td>0.053847</td>\n",
       "      <td>-0.037265</td>\n",
       "      <td>-0.074932</td>\n",
       "    </tr>\n",
       "    <tr>\n",
       "      <th>Mfr_Guarantee</th>\n",
       "      <td>-0.162006</td>\n",
       "      <td>0.197802</td>\n",
       "      <td>-0.164658</td>\n",
       "      <td>-0.005771</td>\n",
       "      <td>0.166697</td>\n",
       "      <td>-0.212851</td>\n",
       "      <td>0.140026</td>\n",
       "      <td>0.154850</td>\n",
       "      <td>0.026194</td>\n",
       "      <td>-0.057407</td>\n",
       "      <td>...</td>\n",
       "      <td>0.039915</td>\n",
       "      <td>0.041551</td>\n",
       "      <td>0.029771</td>\n",
       "      <td>-0.052058</td>\n",
       "      <td>0.083958</td>\n",
       "      <td>0.054129</td>\n",
       "      <td>0.256249</td>\n",
       "      <td>0.026728</td>\n",
       "      <td>-0.054532</td>\n",
       "      <td>-0.023328</td>\n",
       "    </tr>\n",
       "    <tr>\n",
       "      <th>BOVAG_Guarantee</th>\n",
       "      <td>-0.015065</td>\n",
       "      <td>0.028133</td>\n",
       "      <td>0.006865</td>\n",
       "      <td>-0.003863</td>\n",
       "      <td>-0.006206</td>\n",
       "      <td>0.001438</td>\n",
       "      <td>0.022701</td>\n",
       "      <td>0.010783</td>\n",
       "      <td>0.023393</td>\n",
       "      <td>-0.081725</td>\n",
       "      <td>...</td>\n",
       "      <td>-0.023008</td>\n",
       "      <td>-0.012406</td>\n",
       "      <td>0.164392</td>\n",
       "      <td>-0.039075</td>\n",
       "      <td>0.117472</td>\n",
       "      <td>0.173978</td>\n",
       "      <td>0.457468</td>\n",
       "      <td>0.060434</td>\n",
       "      <td>-0.039827</td>\n",
       "      <td>-0.006718</td>\n",
       "    </tr>\n",
       "    <tr>\n",
       "      <th>Guarantee_Period</th>\n",
       "      <td>-0.086256</td>\n",
       "      <td>0.146627</td>\n",
       "      <td>-0.152563</td>\n",
       "      <td>0.029010</td>\n",
       "      <td>0.148218</td>\n",
       "      <td>-0.138942</td>\n",
       "      <td>0.076163</td>\n",
       "      <td>0.009295</td>\n",
       "      <td>-0.002256</td>\n",
       "      <td>-0.017683</td>\n",
       "      <td>...</td>\n",
       "      <td>0.058934</td>\n",
       "      <td>0.040534</td>\n",
       "      <td>-0.118974</td>\n",
       "      <td>0.198886</td>\n",
       "      <td>-0.118021</td>\n",
       "      <td>-0.172874</td>\n",
       "      <td>-0.484427</td>\n",
       "      <td>-0.044003</td>\n",
       "      <td>0.193910</td>\n",
       "      <td>0.008590</td>\n",
       "    </tr>\n",
       "    <tr>\n",
       "      <th>ABS</th>\n",
       "      <td>-0.461437</td>\n",
       "      <td>0.306138</td>\n",
       "      <td>-0.412887</td>\n",
       "      <td>0.072532</td>\n",
       "      <td>0.402215</td>\n",
       "      <td>-0.177203</td>\n",
       "      <td>0.057832</td>\n",
       "      <td>0.022298</td>\n",
       "      <td>-0.016128</td>\n",
       "      <td>0.037806</td>\n",
       "      <td>...</td>\n",
       "      <td>0.099454</td>\n",
       "      <td>0.099465</td>\n",
       "      <td>0.254626</td>\n",
       "      <td>-0.054670</td>\n",
       "      <td>0.179433</td>\n",
       "      <td>0.200596</td>\n",
       "      <td>0.256659</td>\n",
       "      <td>0.079152</td>\n",
       "      <td>-0.055724</td>\n",
       "      <td>-0.065976</td>\n",
       "    </tr>\n",
       "    <tr>\n",
       "      <th>Airbag_1</th>\n",
       "      <td>-0.123465</td>\n",
       "      <td>0.093588</td>\n",
       "      <td>-0.105406</td>\n",
       "      <td>0.003756</td>\n",
       "      <td>0.105359</td>\n",
       "      <td>-0.018012</td>\n",
       "      <td>0.025137</td>\n",
       "      <td>0.100055</td>\n",
       "      <td>-0.011895</td>\n",
       "      <td>0.022678</td>\n",
       "      <td>...</td>\n",
       "      <td>0.120276</td>\n",
       "      <td>0.121641</td>\n",
       "      <td>0.561770</td>\n",
       "      <td>-0.010035</td>\n",
       "      <td>0.092618</td>\n",
       "      <td>0.113671</td>\n",
       "      <td>0.307947</td>\n",
       "      <td>0.057345</td>\n",
       "      <td>-0.022117</td>\n",
       "      <td>0.052312</td>\n",
       "    </tr>\n",
       "    <tr>\n",
       "      <th>Airbag_2</th>\n",
       "      <td>-0.358316</td>\n",
       "      <td>0.248974</td>\n",
       "      <td>-0.329017</td>\n",
       "      <td>0.076749</td>\n",
       "      <td>0.317075</td>\n",
       "      <td>-0.139275</td>\n",
       "      <td>0.017644</td>\n",
       "      <td>0.038416</td>\n",
       "      <td>0.001171</td>\n",
       "      <td>0.024738</td>\n",
       "      <td>...</td>\n",
       "      <td>0.024819</td>\n",
       "      <td>0.049129</td>\n",
       "      <td>0.212187</td>\n",
       "      <td>-0.223663</td>\n",
       "      <td>0.228843</td>\n",
       "      <td>0.300274</td>\n",
       "      <td>0.589987</td>\n",
       "      <td>0.075128</td>\n",
       "      <td>-0.220917</td>\n",
       "      <td>-0.063956</td>\n",
       "    </tr>\n",
       "    <tr>\n",
       "      <th>Airco</th>\n",
       "      <td>-0.386207</td>\n",
       "      <td>0.429259</td>\n",
       "      <td>-0.403600</td>\n",
       "      <td>0.057088</td>\n",
       "      <td>0.395674</td>\n",
       "      <td>-0.133057</td>\n",
       "      <td>0.241134</td>\n",
       "      <td>0.114190</td>\n",
       "      <td>-0.028353</td>\n",
       "      <td>0.119888</td>\n",
       "      <td>...</td>\n",
       "      <td>0.540588</td>\n",
       "      <td>0.543982</td>\n",
       "      <td>0.096893</td>\n",
       "      <td>-0.030571</td>\n",
       "      <td>0.466751</td>\n",
       "      <td>0.002730</td>\n",
       "      <td>0.105149</td>\n",
       "      <td>0.233166</td>\n",
       "      <td>-0.036524</td>\n",
       "      <td>-0.024362</td>\n",
       "    </tr>\n",
       "    <tr>\n",
       "      <th>Automatic_airco</th>\n",
       "      <td>-0.327468</td>\n",
       "      <td>0.588262</td>\n",
       "      <td>-0.426259</td>\n",
       "      <td>-0.049017</td>\n",
       "      <td>0.437718</td>\n",
       "      <td>-0.258221</td>\n",
       "      <td>0.244957</td>\n",
       "      <td>0.027977</td>\n",
       "      <td>0.059057</td>\n",
       "      <td>0.162669</td>\n",
       "      <td>...</td>\n",
       "      <td>0.195790</td>\n",
       "      <td>0.203687</td>\n",
       "      <td>0.036912</td>\n",
       "      <td>-0.092647</td>\n",
       "      <td>0.312141</td>\n",
       "      <td>0.215287</td>\n",
       "      <td>0.018756</td>\n",
       "      <td>0.100363</td>\n",
       "      <td>-0.092348</td>\n",
       "      <td>-0.117967</td>\n",
       "    </tr>\n",
       "    <tr>\n",
       "      <th>Boardcomputer</th>\n",
       "      <td>-0.695207</td>\n",
       "      <td>0.601292</td>\n",
       "      <td>-0.719449</td>\n",
       "      <td>0.017715</td>\n",
       "      <td>0.720567</td>\n",
       "      <td>-0.353862</td>\n",
       "      <td>0.129715</td>\n",
       "      <td>0.089886</td>\n",
       "      <td>-0.037069</td>\n",
       "      <td>0.009312</td>\n",
       "      <td>...</td>\n",
       "      <td>0.203126</td>\n",
       "      <td>0.213327</td>\n",
       "      <td>0.087207</td>\n",
       "      <td>-0.129094</td>\n",
       "      <td>0.147900</td>\n",
       "      <td>0.036802</td>\n",
       "      <td>0.287615</td>\n",
       "      <td>-0.024999</td>\n",
       "      <td>-0.128073</td>\n",
       "      <td>-0.128001</td>\n",
       "    </tr>\n",
       "    <tr>\n",
       "      <th>CD_Player</th>\n",
       "      <td>-0.464520</td>\n",
       "      <td>0.481374</td>\n",
       "      <td>-0.510895</td>\n",
       "      <td>-0.016736</td>\n",
       "      <td>0.517008</td>\n",
       "      <td>-0.266826</td>\n",
       "      <td>0.102300</td>\n",
       "      <td>0.198220</td>\n",
       "      <td>-0.010967</td>\n",
       "      <td>0.057787</td>\n",
       "      <td>...</td>\n",
       "      <td>0.194076</td>\n",
       "      <td>0.195386</td>\n",
       "      <td>0.068452</td>\n",
       "      <td>-0.185568</td>\n",
       "      <td>0.124589</td>\n",
       "      <td>0.057920</td>\n",
       "      <td>0.148806</td>\n",
       "      <td>0.044730</td>\n",
       "      <td>-0.189668</td>\n",
       "      <td>-0.079911</td>\n",
       "    </tr>\n",
       "    <tr>\n",
       "      <th>Central_Lock</th>\n",
       "      <td>-0.238940</td>\n",
       "      <td>0.343458</td>\n",
       "      <td>-0.279631</td>\n",
       "      <td>0.010055</td>\n",
       "      <td>0.279490</td>\n",
       "      <td>-0.125177</td>\n",
       "      <td>0.250122</td>\n",
       "      <td>0.153307</td>\n",
       "      <td>-0.002502</td>\n",
       "      <td>0.072634</td>\n",
       "      <td>...</td>\n",
       "      <td>1.000000</td>\n",
       "      <td>0.875552</td>\n",
       "      <td>0.129646</td>\n",
       "      <td>-0.011251</td>\n",
       "      <td>0.487426</td>\n",
       "      <td>-0.003128</td>\n",
       "      <td>0.058449</td>\n",
       "      <td>0.281334</td>\n",
       "      <td>-0.016954</td>\n",
       "      <td>-0.007728</td>\n",
       "    </tr>\n",
       "    <tr>\n",
       "      <th>Powered_Windows</th>\n",
       "      <td>-0.236723</td>\n",
       "      <td>0.356518</td>\n",
       "      <td>-0.283856</td>\n",
       "      <td>0.025185</td>\n",
       "      <td>0.280996</td>\n",
       "      <td>-0.156242</td>\n",
       "      <td>0.265593</td>\n",
       "      <td>0.145147</td>\n",
       "      <td>-0.005864</td>\n",
       "      <td>0.055299</td>\n",
       "      <td>...</td>\n",
       "      <td>0.875552</td>\n",
       "      <td>1.000000</td>\n",
       "      <td>0.123458</td>\n",
       "      <td>-0.035811</td>\n",
       "      <td>0.496697</td>\n",
       "      <td>-0.000650</td>\n",
       "      <td>0.078244</td>\n",
       "      <td>0.291419</td>\n",
       "      <td>-0.037626</td>\n",
       "      <td>-0.013252</td>\n",
       "    </tr>\n",
       "    <tr>\n",
       "      <th>Power_Steering</th>\n",
       "      <td>-0.091587</td>\n",
       "      <td>0.064275</td>\n",
       "      <td>-0.069192</td>\n",
       "      <td>-0.055495</td>\n",
       "      <td>0.079676</td>\n",
       "      <td>0.007397</td>\n",
       "      <td>0.048850</td>\n",
       "      <td>0.086544</td>\n",
       "      <td>-0.004469</td>\n",
       "      <td>0.032933</td>\n",
       "      <td>...</td>\n",
       "      <td>0.129646</td>\n",
       "      <td>0.123458</td>\n",
       "      <td>1.000000</td>\n",
       "      <td>0.009075</td>\n",
       "      <td>0.077985</td>\n",
       "      <td>0.098866</td>\n",
       "      <td>0.265169</td>\n",
       "      <td>0.053217</td>\n",
       "      <td>-0.004584</td>\n",
       "      <td>0.030453</td>\n",
       "    </tr>\n",
       "    <tr>\n",
       "      <th>Radio</th>\n",
       "      <td>-0.010971</td>\n",
       "      <td>-0.041887</td>\n",
       "      <td>0.013791</td>\n",
       "      <td>0.031601</td>\n",
       "      <td>-0.019607</td>\n",
       "      <td>0.013661</td>\n",
       "      <td>0.020998</td>\n",
       "      <td>0.072756</td>\n",
       "      <td>-0.014600</td>\n",
       "      <td>-0.000361</td>\n",
       "      <td>...</td>\n",
       "      <td>-0.011251</td>\n",
       "      <td>-0.035811</td>\n",
       "      <td>0.009075</td>\n",
       "      <td>1.000000</td>\n",
       "      <td>-0.126118</td>\n",
       "      <td>-0.137729</td>\n",
       "      <td>-0.209590</td>\n",
       "      <td>-0.034162</td>\n",
       "      <td>0.991621</td>\n",
       "      <td>0.143652</td>\n",
       "    </tr>\n",
       "    <tr>\n",
       "      <th>Mistlamps</th>\n",
       "      <td>-0.139708</td>\n",
       "      <td>0.222083</td>\n",
       "      <td>-0.126895</td>\n",
       "      <td>-0.033504</td>\n",
       "      <td>0.133737</td>\n",
       "      <td>-0.074327</td>\n",
       "      <td>0.210571</td>\n",
       "      <td>0.023821</td>\n",
       "      <td>0.003077</td>\n",
       "      <td>0.017326</td>\n",
       "      <td>...</td>\n",
       "      <td>0.487426</td>\n",
       "      <td>0.496697</td>\n",
       "      <td>0.077985</td>\n",
       "      <td>-0.126118</td>\n",
       "      <td>1.000000</td>\n",
       "      <td>0.004342</td>\n",
       "      <td>0.245463</td>\n",
       "      <td>0.412545</td>\n",
       "      <td>-0.134245</td>\n",
       "      <td>-0.069479</td>\n",
       "    </tr>\n",
       "    <tr>\n",
       "      <th>Sport_Model</th>\n",
       "      <td>-0.028704</td>\n",
       "      <td>0.164121</td>\n",
       "      <td>-0.110988</td>\n",
       "      <td>0.052789</td>\n",
       "      <td>0.102080</td>\n",
       "      <td>-0.044784</td>\n",
       "      <td>-0.006027</td>\n",
       "      <td>0.003779</td>\n",
       "      <td>0.013175</td>\n",
       "      <td>-0.035195</td>\n",
       "      <td>...</td>\n",
       "      <td>-0.003128</td>\n",
       "      <td>-0.000650</td>\n",
       "      <td>0.098866</td>\n",
       "      <td>-0.137729</td>\n",
       "      <td>0.004342</td>\n",
       "      <td>1.000000</td>\n",
       "      <td>0.357713</td>\n",
       "      <td>0.051810</td>\n",
       "      <td>-0.136708</td>\n",
       "      <td>-0.094147</td>\n",
       "    </tr>\n",
       "    <tr>\n",
       "      <th>Backseat_Divider</th>\n",
       "      <td>-0.136398</td>\n",
       "      <td>0.102569</td>\n",
       "      <td>-0.116751</td>\n",
       "      <td>0.023245</td>\n",
       "      <td>0.113237</td>\n",
       "      <td>-0.045658</td>\n",
       "      <td>0.010908</td>\n",
       "      <td>0.037741</td>\n",
       "      <td>-0.018876</td>\n",
       "      <td>-0.055711</td>\n",
       "      <td>...</td>\n",
       "      <td>0.058449</td>\n",
       "      <td>0.078244</td>\n",
       "      <td>0.265169</td>\n",
       "      <td>-0.209590</td>\n",
       "      <td>0.245463</td>\n",
       "      <td>0.357713</td>\n",
       "      <td>1.000000</td>\n",
       "      <td>0.104862</td>\n",
       "      <td>-0.206390</td>\n",
       "      <td>-0.049176</td>\n",
       "    </tr>\n",
       "    <tr>\n",
       "      <th>Metallic_Rim</th>\n",
       "      <td>-0.022232</td>\n",
       "      <td>0.108564</td>\n",
       "      <td>-0.040045</td>\n",
       "      <td>0.023506</td>\n",
       "      <td>0.036022</td>\n",
       "      <td>-0.013599</td>\n",
       "      <td>0.206784</td>\n",
       "      <td>0.053829</td>\n",
       "      <td>-0.078095</td>\n",
       "      <td>0.003236</td>\n",
       "      <td>...</td>\n",
       "      <td>0.281334</td>\n",
       "      <td>0.291419</td>\n",
       "      <td>0.053217</td>\n",
       "      <td>-0.034162</td>\n",
       "      <td>0.412545</td>\n",
       "      <td>0.051810</td>\n",
       "      <td>0.104862</td>\n",
       "      <td>1.000000</td>\n",
       "      <td>-0.033228</td>\n",
       "      <td>-0.037331</td>\n",
       "    </tr>\n",
       "    <tr>\n",
       "      <th>Radio_cassette</th>\n",
       "      <td>-0.011611</td>\n",
       "      <td>-0.043179</td>\n",
       "      <td>0.012857</td>\n",
       "      <td>0.032576</td>\n",
       "      <td>-0.018844</td>\n",
       "      <td>0.015770</td>\n",
       "      <td>0.019919</td>\n",
       "      <td>0.071530</td>\n",
       "      <td>-0.014150</td>\n",
       "      <td>-0.000470</td>\n",
       "      <td>...</td>\n",
       "      <td>-0.016954</td>\n",
       "      <td>-0.037626</td>\n",
       "      <td>-0.004584</td>\n",
       "      <td>0.991621</td>\n",
       "      <td>-0.134245</td>\n",
       "      <td>-0.136708</td>\n",
       "      <td>-0.206390</td>\n",
       "      <td>-0.033228</td>\n",
       "      <td>1.000000</td>\n",
       "      <td>0.140753</td>\n",
       "    </tr>\n",
       "    <tr>\n",
       "      <th>Tow_Bar</th>\n",
       "      <td>0.159171</td>\n",
       "      <td>-0.172369</td>\n",
       "      <td>0.188720</td>\n",
       "      <td>-0.042170</td>\n",
       "      <td>-0.182206</td>\n",
       "      <td>0.084153</td>\n",
       "      <td>0.068271</td>\n",
       "      <td>0.148536</td>\n",
       "      <td>0.018786</td>\n",
       "      <td>0.002725</td>\n",
       "      <td>...</td>\n",
       "      <td>-0.007728</td>\n",
       "      <td>-0.013252</td>\n",
       "      <td>0.030453</td>\n",
       "      <td>0.143652</td>\n",
       "      <td>-0.069479</td>\n",
       "      <td>-0.094147</td>\n",
       "      <td>-0.049176</td>\n",
       "      <td>-0.037331</td>\n",
       "      <td>0.140753</td>\n",
       "      <td>1.000000</td>\n",
       "    </tr>\n",
       "  </tbody>\n",
       "</table>\n",
       "<p>35 rows × 35 columns</p>\n",
       "</div>"
      ],
      "text/plain": [
       "                        Id     Price  Age_08_04  Mfg_Month  Mfg_Year  \\\n",
       "Id                1.000000 -0.738250   0.906132   0.043742 -0.919523   \n",
       "Price            -0.738250  1.000000  -0.876590  -0.018138  0.885159   \n",
       "Age_08_04         0.906132 -0.876590   1.000000  -0.123255 -0.983661   \n",
       "Mfg_Month         0.043742 -0.018138  -0.123255   1.000000 -0.057416   \n",
       "Mfg_Year         -0.919523  0.885159  -0.983661  -0.057416  1.000000   \n",
       "KM                0.273298 -0.569960   0.505672  -0.020630 -0.504974   \n",
       "HP               -0.109375  0.314990  -0.156622  -0.039312  0.164697   \n",
       "Met_Color        -0.079713  0.108905  -0.108150   0.030266  0.103310   \n",
       "Automatic         0.066265  0.033081   0.031717   0.009146 -0.033567   \n",
       "cc               -0.117704  0.126389  -0.098084   0.037387  0.091892   \n",
       "Doors            -0.130207  0.185326  -0.148359  -0.012069  0.151442   \n",
       "Cylinders              NaN       NaN        NaN        NaN       NaN   \n",
       "Gears            -0.043343  0.063104  -0.005364  -0.013063  0.007766   \n",
       "Quarterly_Tax    -0.240821  0.219197  -0.198431   0.031373  0.193934   \n",
       "Weight           -0.414500  0.581198  -0.470253  -0.002167  0.473478   \n",
       "Mfr_Guarantee    -0.162006  0.197802  -0.164658  -0.005771  0.166697   \n",
       "BOVAG_Guarantee  -0.015065  0.028133   0.006865  -0.003863 -0.006206   \n",
       "Guarantee_Period -0.086256  0.146627  -0.152563   0.029010  0.148218   \n",
       "ABS              -0.461437  0.306138  -0.412887   0.072532  0.402215   \n",
       "Airbag_1         -0.123465  0.093588  -0.105406   0.003756  0.105359   \n",
       "Airbag_2         -0.358316  0.248974  -0.329017   0.076749  0.317075   \n",
       "Airco            -0.386207  0.429259  -0.403600   0.057088  0.395674   \n",
       "Automatic_airco  -0.327468  0.588262  -0.426259  -0.049017  0.437718   \n",
       "Boardcomputer    -0.695207  0.601292  -0.719449   0.017715  0.720567   \n",
       "CD_Player        -0.464520  0.481374  -0.510895  -0.016736  0.517008   \n",
       "Central_Lock     -0.238940  0.343458  -0.279631   0.010055  0.279490   \n",
       "Powered_Windows  -0.236723  0.356518  -0.283856   0.025185  0.280996   \n",
       "Power_Steering   -0.091587  0.064275  -0.069192  -0.055495  0.079676   \n",
       "Radio            -0.010971 -0.041887   0.013791   0.031601 -0.019607   \n",
       "Mistlamps        -0.139708  0.222083  -0.126895  -0.033504  0.133737   \n",
       "Sport_Model      -0.028704  0.164121  -0.110988   0.052789  0.102080   \n",
       "Backseat_Divider -0.136398  0.102569  -0.116751   0.023245  0.113237   \n",
       "Metallic_Rim     -0.022232  0.108564  -0.040045   0.023506  0.036022   \n",
       "Radio_cassette   -0.011611 -0.043179   0.012857   0.032576 -0.018844   \n",
       "Tow_Bar           0.159171 -0.172369   0.188720  -0.042170 -0.182206   \n",
       "\n",
       "                        KM        HP  Met_Color  Automatic        cc  ...  \\\n",
       "Id                0.273298 -0.109375  -0.079713   0.066265 -0.117704  ...   \n",
       "Price            -0.569960  0.314990   0.108905   0.033081  0.126389  ...   \n",
       "Age_08_04         0.505672 -0.156622  -0.108150   0.031717 -0.098084  ...   \n",
       "Mfg_Month        -0.020630 -0.039312   0.030266   0.009146  0.037387  ...   \n",
       "Mfg_Year         -0.504974  0.164697   0.103310  -0.033567  0.091892  ...   \n",
       "KM                1.000000 -0.333538  -0.080503  -0.081854  0.102683  ...   \n",
       "HP               -0.333538  1.000000   0.058712   0.013144  0.035856  ...   \n",
       "Met_Color        -0.080503  0.058712   1.000000  -0.019335  0.031812  ...   \n",
       "Automatic        -0.081854  0.013144  -0.019335   1.000000  0.066740  ...   \n",
       "cc                0.102683  0.035856   0.031812   0.066740  1.000000  ...   \n",
       "Doors            -0.036197  0.092424   0.085243  -0.027654  0.079903  ...   \n",
       "Cylinders              NaN       NaN        NaN        NaN       NaN  ...   \n",
       "Gears             0.015023  0.209477   0.018601  -0.098555  0.014629  ...   \n",
       "Quarterly_Tax     0.278165 -0.298432   0.011326  -0.055371  0.306996  ...   \n",
       "Weight           -0.028598  0.089614   0.057929   0.057249  0.335637  ...   \n",
       "Mfr_Guarantee    -0.212851  0.140026   0.154850   0.026194 -0.057407  ...   \n",
       "BOVAG_Guarantee   0.001438  0.022701   0.010783   0.023393 -0.081725  ...   \n",
       "Guarantee_Period -0.138942  0.076163   0.009295  -0.002256 -0.017683  ...   \n",
       "ABS              -0.177203  0.057832   0.022298  -0.016128  0.037806  ...   \n",
       "Airbag_1         -0.018012  0.025137   0.100055  -0.011895  0.022678  ...   \n",
       "Airbag_2         -0.139275  0.017644   0.038416   0.001171  0.024738  ...   \n",
       "Airco            -0.133057  0.241134   0.114190  -0.028353  0.119888  ...   \n",
       "Automatic_airco  -0.258221  0.244957   0.027977   0.059057  0.162669  ...   \n",
       "Boardcomputer    -0.353862  0.129715   0.089886  -0.037069  0.009312  ...   \n",
       "CD_Player        -0.266826  0.102300   0.198220  -0.010967  0.057787  ...   \n",
       "Central_Lock     -0.125177  0.250122   0.153307  -0.002502  0.072634  ...   \n",
       "Powered_Windows  -0.156242  0.265593   0.145147  -0.005864  0.055299  ...   \n",
       "Power_Steering    0.007397  0.048850   0.086544  -0.004469  0.032933  ...   \n",
       "Radio             0.013661  0.020998   0.072756  -0.014600 -0.000361  ...   \n",
       "Mistlamps        -0.074327  0.210571   0.023821   0.003077  0.017326  ...   \n",
       "Sport_Model      -0.044784 -0.006027   0.003779   0.013175 -0.035195  ...   \n",
       "Backseat_Divider -0.045658  0.010908   0.037741  -0.018876 -0.055711  ...   \n",
       "Metallic_Rim     -0.013599  0.206784   0.053829  -0.078095  0.003236  ...   \n",
       "Radio_cassette    0.015770  0.019919   0.071530  -0.014150 -0.000470  ...   \n",
       "Tow_Bar           0.084153  0.068271   0.148536   0.018786  0.002725  ...   \n",
       "\n",
       "                  Central_Lock  Powered_Windows  Power_Steering     Radio  \\\n",
       "Id                   -0.238940        -0.236723       -0.091587 -0.010971   \n",
       "Price                 0.343458         0.356518        0.064275 -0.041887   \n",
       "Age_08_04            -0.279631        -0.283856       -0.069192  0.013791   \n",
       "Mfg_Month             0.010055         0.025185       -0.055495  0.031601   \n",
       "Mfg_Year              0.279490         0.280996        0.079676 -0.019607   \n",
       "KM                   -0.125177        -0.156242        0.007397  0.013661   \n",
       "HP                    0.250122         0.265593        0.048850  0.020998   \n",
       "Met_Color             0.153307         0.145147        0.086544  0.072756   \n",
       "Automatic            -0.002502        -0.005864       -0.004469 -0.014600   \n",
       "cc                    0.072634         0.055299        0.032933 -0.000361   \n",
       "Doors                 0.132092         0.107626        0.059792 -0.008318   \n",
       "Cylinders                  NaN              NaN             NaN       NaN   \n",
       "Gears                 0.126964         0.131423        0.021200  0.015090   \n",
       "Quarterly_Tax         0.032084         0.003827        0.047956 -0.031816   \n",
       "Weight                0.234644         0.213356        0.047849 -0.038407   \n",
       "Mfr_Guarantee         0.039915         0.041551        0.029771 -0.052058   \n",
       "BOVAG_Guarantee      -0.023008        -0.012406        0.164392 -0.039075   \n",
       "Guarantee_Period      0.058934         0.040534       -0.118974  0.198886   \n",
       "ABS                   0.099454         0.099465        0.254626 -0.054670   \n",
       "Airbag_1              0.120276         0.121641        0.561770 -0.010035   \n",
       "Airbag_2              0.024819         0.049129        0.212187 -0.223663   \n",
       "Airco                 0.540588         0.543982        0.096893 -0.030571   \n",
       "Automatic_airco       0.195790         0.203687        0.036912 -0.092647   \n",
       "Boardcomputer         0.203126         0.213327        0.087207 -0.129094   \n",
       "CD_Player             0.194076         0.195386        0.068452 -0.185568   \n",
       "Central_Lock          1.000000         0.875552        0.129646 -0.011251   \n",
       "Powered_Windows       0.875552         1.000000        0.123458 -0.035811   \n",
       "Power_Steering        0.129646         0.123458        1.000000  0.009075   \n",
       "Radio                -0.011251        -0.035811        0.009075  1.000000   \n",
       "Mistlamps             0.487426         0.496697        0.077985 -0.126118   \n",
       "Sport_Model          -0.003128        -0.000650        0.098866 -0.137729   \n",
       "Backseat_Divider      0.058449         0.078244        0.265169 -0.209590   \n",
       "Metallic_Rim          0.281334         0.291419        0.053217 -0.034162   \n",
       "Radio_cassette       -0.016954        -0.037626       -0.004584  0.991621   \n",
       "Tow_Bar              -0.007728        -0.013252        0.030453  0.143652   \n",
       "\n",
       "                  Mistlamps  Sport_Model  Backseat_Divider  Metallic_Rim  \\\n",
       "Id                -0.139708    -0.028704         -0.136398     -0.022232   \n",
       "Price              0.222083     0.164121          0.102569      0.108564   \n",
       "Age_08_04         -0.126895    -0.110988         -0.116751     -0.040045   \n",
       "Mfg_Month         -0.033504     0.052789          0.023245      0.023506   \n",
       "Mfg_Year           0.133737     0.102080          0.113237      0.036022   \n",
       "KM                -0.074327    -0.044784         -0.045658     -0.013599   \n",
       "HP                 0.210571    -0.006027          0.010908      0.206784   \n",
       "Met_Color          0.023821     0.003779          0.037741      0.053829   \n",
       "Automatic          0.003077     0.013175         -0.018876     -0.078095   \n",
       "cc                 0.017326    -0.035195         -0.055711      0.003236   \n",
       "Doors              0.064705    -0.129881         -0.022542     -0.039555   \n",
       "Cylinders               NaN          NaN               NaN           NaN   \n",
       "Gears              0.238789     0.174117          0.076705      0.295077   \n",
       "Quarterly_Tax      0.024024     0.067525          0.198419     -0.011965   \n",
       "Weight             0.135236     0.125974          0.036446      0.053847   \n",
       "Mfr_Guarantee      0.083958     0.054129          0.256249      0.026728   \n",
       "BOVAG_Guarantee    0.117472     0.173978          0.457468      0.060434   \n",
       "Guarantee_Period  -0.118021    -0.172874         -0.484427     -0.044003   \n",
       "ABS                0.179433     0.200596          0.256659      0.079152   \n",
       "Airbag_1           0.092618     0.113671          0.307947      0.057345   \n",
       "Airbag_2           0.228843     0.300274          0.589987      0.075128   \n",
       "Airco              0.466751     0.002730          0.105149      0.233166   \n",
       "Automatic_airco    0.312141     0.215287          0.018756      0.100363   \n",
       "Boardcomputer      0.147900     0.036802          0.287615     -0.024999   \n",
       "CD_Player          0.124589     0.057920          0.148806      0.044730   \n",
       "Central_Lock       0.487426    -0.003128          0.058449      0.281334   \n",
       "Powered_Windows    0.496697    -0.000650          0.078244      0.291419   \n",
       "Power_Steering     0.077985     0.098866          0.265169      0.053217   \n",
       "Radio             -0.126118    -0.137729         -0.209590     -0.034162   \n",
       "Mistlamps          1.000000     0.004342          0.245463      0.412545   \n",
       "Sport_Model        0.004342     1.000000          0.357713      0.051810   \n",
       "Backseat_Divider   0.245463     0.357713          1.000000      0.104862   \n",
       "Metallic_Rim       0.412545     0.051810          0.104862      1.000000   \n",
       "Radio_cassette    -0.134245    -0.136708         -0.206390     -0.033228   \n",
       "Tow_Bar           -0.069479    -0.094147         -0.049176     -0.037331   \n",
       "\n",
       "                  Radio_cassette   Tow_Bar  \n",
       "Id                     -0.011611  0.159171  \n",
       "Price                  -0.043179 -0.172369  \n",
       "Age_08_04               0.012857  0.188720  \n",
       "Mfg_Month               0.032576 -0.042170  \n",
       "Mfg_Year               -0.018844 -0.182206  \n",
       "KM                      0.015770  0.084153  \n",
       "HP                      0.019919  0.068271  \n",
       "Met_Color               0.071530  0.148536  \n",
       "Automatic              -0.014150  0.018786  \n",
       "cc                     -0.000470  0.002725  \n",
       "Doors                  -0.008265  0.102292  \n",
       "Cylinders                    NaN       NaN  \n",
       "Gears                   0.015397 -0.029357  \n",
       "Quarterly_Tax          -0.031009 -0.004988  \n",
       "Weight                 -0.037265 -0.074932  \n",
       "Mfr_Guarantee          -0.054532 -0.023328  \n",
       "BOVAG_Guarantee        -0.039827 -0.006718  \n",
       "Guarantee_Period        0.193910  0.008590  \n",
       "ABS                    -0.055724 -0.065976  \n",
       "Airbag_1               -0.022117  0.052312  \n",
       "Airbag_2               -0.220917 -0.063956  \n",
       "Airco                  -0.036524 -0.024362  \n",
       "Automatic_airco        -0.092348 -0.117967  \n",
       "Boardcomputer          -0.128073 -0.128001  \n",
       "CD_Player              -0.189668 -0.079911  \n",
       "Central_Lock           -0.016954 -0.007728  \n",
       "Powered_Windows        -0.037626 -0.013252  \n",
       "Power_Steering         -0.004584  0.030453  \n",
       "Radio                   0.991621  0.143652  \n",
       "Mistlamps              -0.134245 -0.069479  \n",
       "Sport_Model            -0.136708 -0.094147  \n",
       "Backseat_Divider       -0.206390 -0.049176  \n",
       "Metallic_Rim           -0.033228 -0.037331  \n",
       "Radio_cassette          1.000000  0.140753  \n",
       "Tow_Bar                 0.140753  1.000000  \n",
       "\n",
       "[35 rows x 35 columns]"
      ]
     },
     "execution_count": 6,
     "metadata": {},
     "output_type": "execute_result"
    }
   ],
   "source": [
    "df.corr()"
   ]
  },
  {
   "cell_type": "code",
   "execution_count": 7,
   "metadata": {},
   "outputs": [
    {
     "name": "stderr",
     "output_type": "stream",
     "text": [
      "C:\\Users\\usr\\anaconda3\\lib\\site-packages\\pandas\\core\\frame.py:4125: SettingWithCopyWarning: \n",
      "A value is trying to be set on a copy of a slice from a DataFrame\n",
      "\n",
      "See the caveats in the documentation: https://pandas.pydata.org/pandas-docs/stable/user_guide/indexing.html#returning-a-view-versus-a-copy\n",
      "  return super().rename(\n"
     ]
    }
   ],
   "source": [
    "toyota1= df.iloc[:,[2,3,6,8,12,13,15,16,17]]\n",
    "toyota1.rename(columns={\"Age_08_04\":\"Age\"},inplace=True)\n"
   ]
  },
  {
   "cell_type": "code",
   "execution_count": 8,
   "metadata": {},
   "outputs": [],
   "source": [
    "eda=toyota1.describe()"
   ]
  },
  {
   "cell_type": "code",
   "execution_count": 9,
   "metadata": {},
   "outputs": [
    {
     "data": {
      "text/plain": [
       "{'whiskers': [<matplotlib.lines.Line2D at 0x19a46b945b0>,\n",
       "  <matplotlib.lines.Line2D at 0x19a46b94910>],\n",
       " 'caps': [<matplotlib.lines.Line2D at 0x19a46b94c70>,\n",
       "  <matplotlib.lines.Line2D at 0x19a46b94fd0>],\n",
       " 'boxes': [<matplotlib.lines.Line2D at 0x19a46b94250>],\n",
       " 'medians': [<matplotlib.lines.Line2D at 0x19a46ba0370>],\n",
       " 'fliers': [<matplotlib.lines.Line2D at 0x19a46ba0670>],\n",
       " 'means': []}"
      ]
     },
     "execution_count": 9,
     "metadata": {},
     "output_type": "execute_result"
    },
    {
     "data": {
      "image/png": "[encoded data removed]",
      "text/plain": [
       "<Figure size 432x288 with 1 Axes>"
      ]
     },
     "metadata": {
      "needs_background": "light"
     },
     "output_type": "display_data"
    }
   ],
   "source": [
    "plt.boxplot(toyota1[\"Price\"])\n"
   ]
  },
  {
   "cell_type": "code",
   "execution_count": 10,
   "metadata": {},
   "outputs": [
    {
     "data": {
      "text/plain": [
       "{'whiskers': [<matplotlib.lines.Line2D at 0x19a46c34100>,\n",
       "  <matplotlib.lines.Line2D at 0x19a46c34460>],\n",
       " 'caps': [<matplotlib.lines.Line2D at 0x19a46c347c0>,\n",
       "  <matplotlib.lines.Line2D at 0x19a46c34b20>],\n",
       " 'boxes': [<matplotlib.lines.Line2D at 0x19a46c26d60>],\n",
       " 'medians': [<matplotlib.lines.Line2D at 0x19a46c34eb0>],\n",
       " 'fliers': [<matplotlib.lines.Line2D at 0x19a46c40190>],\n",
       " 'means': []}"
      ]
     },
     "execution_count": 10,
     "metadata": {},
     "output_type": "execute_result"
    },
    {
     "data": {
      "image/png": "[encoded data removed]",
      "text/plain": [
       "<Figure size 432x288 with 1 Axes>"
      ]
     },
     "metadata": {
      "needs_background": "light"
     },
     "output_type": "display_data"
    }
   ],
   "source": [
    "plt.boxplot(toyota1[\"Age\"])\n"
   ]
  },
  {
   "cell_type": "code",
   "execution_count": 11,
   "metadata": {},
   "outputs": [
    {
     "data": {
      "text/plain": [
       "{'whiskers': [<matplotlib.lines.Line2D at 0x19a46c8fbb0>,\n",
       "  <matplotlib.lines.Line2D at 0x19a46c8ff10>],\n",
       " 'caps': [<matplotlib.lines.Line2D at 0x19a46c9e2b0>,\n",
       "  <matplotlib.lines.Line2D at 0x19a46c9e610>],\n",
       " 'boxes': [<matplotlib.lines.Line2D at 0x19a46c8f880>],\n",
       " 'medians': [<matplotlib.lines.Line2D at 0x19a46c9e970>],\n",
       " 'fliers': [<matplotlib.lines.Line2D at 0x19a46c9ec70>],\n",
       " 'means': []}"
      ]
     },
     "execution_count": 11,
     "metadata": {},
     "output_type": "execute_result"
    },
    {
     "data": {
      "image/png": "[encoded data removed]",
      "text/plain": [
       "<Figure size 432x288 with 1 Axes>"
      ]
     },
     "metadata": {
      "needs_background": "light"
     },
     "output_type": "display_data"
    }
   ],
   "source": [
    "plt.boxplot(toyota1[\"HP\"])\n"
   ]
  },
  {
   "cell_type": "code",
   "execution_count": 12,
   "metadata": {},
   "outputs": [
    {
     "data": {
      "text/plain": [
       "{'whiskers': [<matplotlib.lines.Line2D at 0x19a46cf4490>,\n",
       "  <matplotlib.lines.Line2D at 0x19a46cf4820>],\n",
       " 'caps': [<matplotlib.lines.Line2D at 0x19a46cf4b80>,\n",
       "  <matplotlib.lines.Line2D at 0x19a46cf4e80>],\n",
       " 'boxes': [<matplotlib.lines.Line2D at 0x19a46cf4130>],\n",
       " 'medians': [<matplotlib.lines.Line2D at 0x19a46cfd220>],\n",
       " 'fliers': [<matplotlib.lines.Line2D at 0x19a46cfd520>],\n",
       " 'means': []}"
      ]
     },
     "execution_count": 12,
     "metadata": {},
     "output_type": "execute_result"
    },
    {
     "data": {
      "image/png": "[encoded data removed]",
      "text/plain": [
       "<Figure size 432x288 with 1 Axes>"
      ]
     },
     "metadata": {
      "needs_background": "light"
     },
     "output_type": "display_data"
    }
   ],
   "source": [
    "plt.boxplot(toyota1[\"cc\"])\n"
   ]
  },
  {
   "cell_type": "code",
   "execution_count": 13,
   "metadata": {},
   "outputs": [
    {
     "data": {
      "text/plain": [
       "{'whiskers': [<matplotlib.lines.Line2D at 0x19a46d52430>,\n",
       "  <matplotlib.lines.Line2D at 0x19a46d52790>],\n",
       " 'caps': [<matplotlib.lines.Line2D at 0x19a46d52af0>,\n",
       "  <matplotlib.lines.Line2D at 0x19a46d52e50>],\n",
       " 'boxes': [<matplotlib.lines.Line2D at 0x19a46d520d0>],\n",
       " 'medians': [<matplotlib.lines.Line2D at 0x19a46d5b220>],\n",
       " 'fliers': [<matplotlib.lines.Line2D at 0x19a46d5b520>],\n",
       " 'means': []}"
      ]
     },
     "execution_count": 13,
     "metadata": {},
     "output_type": "execute_result"
    },
    {
     "data": {
      "image/png": "[encoded data removed]",
      "text/plain": [
       "<Figure size 432x288 with 1 Axes>"
      ]
     },
     "metadata": {
      "needs_background": "light"
     },
     "output_type": "display_data"
    }
   ],
   "source": [
    "plt.boxplot(toyota1[\"Quarterly_Tax\"])\n"
   ]
  },
  {
   "cell_type": "code",
   "execution_count": 14,
   "metadata": {},
   "outputs": [
    {
     "data": {
      "text/plain": [
       "{'whiskers': [<matplotlib.lines.Line2D at 0x19a46da8310>,\n",
       "  <matplotlib.lines.Line2D at 0x19a46da8670>],\n",
       " 'caps': [<matplotlib.lines.Line2D at 0x19a46da89d0>,\n",
       "  <matplotlib.lines.Line2D at 0x19a46da8d30>],\n",
       " 'boxes': [<matplotlib.lines.Line2D at 0x19a46d99f40>],\n",
       " 'medians': [<matplotlib.lines.Line2D at 0x19a46db40d0>],\n",
       " 'fliers': [<matplotlib.lines.Line2D at 0x19a46db43d0>],\n",
       " 'means': []}"
      ]
     },
     "execution_count": 14,
     "metadata": {},
     "output_type": "execute_result"
    },
    {
     "data": {
      "image/png": "[encoded data removed]",
      "text/plain": [
       "<Figure size 432x288 with 1 Axes>"
      ]
     },
     "metadata": {
      "needs_background": "light"
     },
     "output_type": "display_data"
    }
   ],
   "source": [
    "plt.boxplot(toyota1[\"Weight\"])"
   ]
  },
  {
   "cell_type": "code",
   "execution_count": null,
   "metadata": {},
   "outputs": [],
   "source": [
    "##All the data is not normally distributed. Price, Age, KM, HP, Quarterly_Tax and Weight have outliers. "
   ]
  },
  {
   "cell_type": "code",
   "execution_count": 16,
   "metadata": {},
   "outputs": [],
   "source": [
    "import statsmodels.api as sm"
   ]
  },
  {
   "cell_type": "code",
   "execution_count": 17,
   "metadata": {},
   "outputs": [
    {
     "data": {
      "image/png": "[encoded data removed]",
      "text/plain": [
       "<Figure size 432x288 with 1 Axes>"
      ]
     },
     "execution_count": 17,
     "metadata": {},
     "output_type": "execute_result"
    },
    {
     "data": {
      "image/png": "[encoded data removed]",
      "text/plain": [
       "<Figure size 432x288 with 1 Axes>"
      ]
     },
     "metadata": {
      "needs_background": "light"
     },
     "output_type": "display_data"
    }
   ],
   "source": [
    "sm.graphics.qqplot(toyota1[\"Price\"])"
   ]
  },
  {
   "cell_type": "code",
   "execution_count": null,
   "metadata": {},
   "outputs": [],
   "source": [
    "##shows the data \"Price\" is not normal "
   ]
  },
  {
   "cell_type": "code",
   "execution_count": 18,
   "metadata": {},
   "outputs": [
    {
     "data": {
      "image/png": "[encoded data removed]",
      "text/plain": [
       "<Figure size 432x288 with 1 Axes>"
      ]
     },
     "execution_count": 18,
     "metadata": {},
     "output_type": "execute_result"
    },
    {
     "data": {
      "image/png": "[encoded data removed]",
      "text/plain": [
       "<Figure size 432x288 with 1 Axes>"
      ]
     },
     "metadata": {
      "needs_background": "light"
     },
     "output_type": "display_data"
    }
   ],
   "source": [
    "sm.graphics.qqplot(toyota1[\"Age\"])"
   ]
  },
  {
   "cell_type": "code",
   "execution_count": null,
   "metadata": {},
   "outputs": [],
   "source": [
    "## shows \"Age\" is not normal. Data is discrete count "
   ]
  },
  {
   "cell_type": "code",
   "execution_count": 24,
   "metadata": {},
   "outputs": [
    {
     "data": {
      "image/png": "[encoded data removed]",
      "text/plain": [
       "<Figure size 432x288 with 1 Axes>"
      ]
     },
     "execution_count": 24,
     "metadata": {},
     "output_type": "execute_result"
    },
    {
     "data": {
      "image/png": "[encoded data removed]",
      "text/plain": [
       "<Figure size 432x288 with 1 Axes>"
      ]
     },
     "metadata": {
      "needs_background": "light"
     },
     "output_type": "display_data"
    }
   ],
   "source": [
    "sm.graphics.qqplot(toyota1[\"HP\"])"
   ]
  },
  {
   "cell_type": "code",
   "execution_count": null,
   "metadata": {},
   "outputs": [],
   "source": [
    "## Data is discrete count"
   ]
  },
  {
   "cell_type": "code",
   "execution_count": 25,
   "metadata": {},
   "outputs": [
    {
     "data": {
      "image/png": "[encoded data removed]",
      "text/plain": [
       "<Figure size 432x288 with 1 Axes>"
      ]
     },
     "execution_count": 25,
     "metadata": {},
     "output_type": "execute_result"
    },
    {
     "data": {
      "image/png": "[encoded data removed]",
      "text/plain": [
       "<Figure size 432x288 with 1 Axes>"
      ]
     },
     "metadata": {
      "needs_background": "light"
     },
     "output_type": "display_data"
    }
   ],
   "source": [
    "sm.graphics.qqplot(toyota1[\"Quarterly_Tax\"])"
   ]
  },
  {
   "cell_type": "code",
   "execution_count": null,
   "metadata": {},
   "outputs": [],
   "source": [
    "## Data is discrete count"
   ]
  },
  {
   "cell_type": "code",
   "execution_count": 26,
   "metadata": {},
   "outputs": [
    {
     "data": {
      "image/png": "[encoded data removed]",
      "text/plain": [
       "<Figure size 432x288 with 1 Axes>"
      ]
     },
     "execution_count": 26,
     "metadata": {},
     "output_type": "execute_result"
    },
    {
     "data": {
      "image/png": "[encoded data removed]",
      "text/plain": [
       "<Figure size 432x288 with 1 Axes>"
      ]
     },
     "metadata": {
      "needs_background": "light"
     },
     "output_type": "display_data"
    }
   ],
   "source": [
    "sm.graphics.qqplot(toyota1[\"Weight\"])"
   ]
  },
  {
   "cell_type": "code",
   "execution_count": null,
   "metadata": {},
   "outputs": [],
   "source": [
    "## Data is not normal. And it shows it is discrete count"
   ]
  },
  {
   "cell_type": "code",
   "execution_count": 27,
   "metadata": {},
   "outputs": [
    {
     "data": {
      "image/png": "[encoded data removed]",
      "text/plain": [
       "<Figure size 432x288 with 1 Axes>"
      ]
     },
     "execution_count": 27,
     "metadata": {},
     "output_type": "execute_result"
    },
    {
     "data": {
      "image/png": "[encoded data removed]",
      "text/plain": [
       "<Figure size 432x288 with 1 Axes>"
      ]
     },
     "metadata": {
      "needs_background": "light"
     },
     "output_type": "display_data"
    }
   ],
   "source": [
    "sm.graphics.qqplot(toyota1[\"Gears\"])"
   ]
  },
  {
   "cell_type": "code",
   "execution_count": null,
   "metadata": {},
   "outputs": [],
   "source": [
    "## Data is discrete categorical"
   ]
  },
  {
   "cell_type": "code",
   "execution_count": 28,
   "metadata": {},
   "outputs": [
    {
     "data": {
      "image/png": "[encoded data removed]",
      "text/plain": [
       "<Figure size 432x288 with 1 Axes>"
      ]
     },
     "execution_count": 28,
     "metadata": {},
     "output_type": "execute_result"
    },
    {
     "data": {
      "image/png": "[encoded data removed]",
      "text/plain": [
       "<Figure size 432x288 with 1 Axes>"
      ]
     },
     "metadata": {
      "needs_background": "light"
     },
     "output_type": "display_data"
    }
   ],
   "source": [
    "sm.graphics.qqplot(toyota1[\"Doors\"])"
   ]
  },
  {
   "cell_type": "code",
   "execution_count": null,
   "metadata": {},
   "outputs": [],
   "source": [
    "## Data is discrete categorical "
   ]
  },
  {
   "cell_type": "code",
   "execution_count": 29,
   "metadata": {},
   "outputs": [
    {
     "data": {
      "image/png": "[encoded data removed]",
      "text/plain": [
       "<Figure size 432x288 with 1 Axes>"
      ]
     },
     "execution_count": 29,
     "metadata": {},
     "output_type": "execute_result"
    },
    {
     "data": {
      "image/png": "[encoded data removed]",
      "text/plain": [
       "<Figure size 432x288 with 1 Axes>"
      ]
     },
     "metadata": {
      "needs_background": "light"
     },
     "output_type": "display_data"
    }
   ],
   "source": [
    "sm.graphics.qqplot(toyota1[\"cc\"])"
   ]
  },
  {
   "cell_type": "code",
   "execution_count": null,
   "metadata": {},
   "outputs": [],
   "source": [
    "## Again data is discrete count data."
   ]
  },
  {
   "cell_type": "code",
   "execution_count": 30,
   "metadata": {},
   "outputs": [
    {
     "data": {
      "text/plain": [
       "(array([ 24.,  36.,  62.,  64., 108., 127., 182., 247., 287., 299.]),\n",
       " array([ 1. ,  8.9, 16.8, 24.7, 32.6, 40.5, 48.4, 56.3, 64.2, 72.1, 80. ]),\n",
       " <a list of 10 Patch objects>)"
      ]
     },
     "execution_count": 30,
     "metadata": {},
     "output_type": "execute_result"
    },
    {
     "data": {
      "image/png": "[encoded data removed]",
      "text/plain": [
       "<Figure size 432x288 with 1 Axes>"
      ]
     },
     "metadata": {
      "needs_background": "light"
     },
     "output_type": "display_data"
    }
   ],
   "source": [
    "plt.hist(toyota1[\"Age\"]) \n",
    "\n",
    " \n",
    " "
   ]
  },
  {
   "cell_type": "code",
   "execution_count": null,
   "metadata": {},
   "outputs": [],
   "source": [
    "## This shows the data is highly left skewed"
   ]
  },
  {
   "cell_type": "code",
   "execution_count": 31,
   "metadata": {},
   "outputs": [
    {
     "data": {
      "text/plain": [
       "(array([109., 285., 166., 865.,   0.,   0.,   0.,   0.,   0.,  11.]),\n",
       " array([ 69. ,  81.3,  93.6, 105.9, 118.2, 130.5, 142.8, 155.1, 167.4,\n",
       "        179.7, 192. ]),\n",
       " <a list of 10 Patch objects>)"
      ]
     },
     "execution_count": 31,
     "metadata": {},
     "output_type": "execute_result"
    },
    {
     "data": {
      "image/png": "[encoded data removed]",
      "text/plain": [
       "<Figure size 432x288 with 1 Axes>"
      ]
     },
     "metadata": {
      "needs_background": "light"
     },
     "output_type": "display_data"
    }
   ],
   "source": [
    "plt.hist(toyota1[\"HP\"])"
   ]
  },
  {
   "cell_type": "code",
   "execution_count": null,
   "metadata": {},
   "outputs": [],
   "source": [
    "## The data is very unevenly distributed, Left skewed"
   ]
  },
  {
   "cell_type": "code",
   "execution_count": 32,
   "metadata": {},
   "outputs": [
    {
     "data": {
      "text/plain": [
       "(array([ 73., 577., 616.,  19.,   0.,   1., 110.,  18.,  19.,   3.]),\n",
       " array([ 19. ,  45.4,  71.8,  98.2, 124.6, 151. , 177.4, 203.8, 230.2,\n",
       "        256.6, 283. ]),\n",
       " <a list of 10 Patch objects>)"
      ]
     },
     "execution_count": 32,
     "metadata": {},
     "output_type": "execute_result"
    },
    {
     "data": {
      "image/png": "[encoded data removed]",
      "text/plain": [
       "<Figure size 432x288 with 1 Axes>"
      ]
     },
     "metadata": {
      "needs_background": "light"
     },
     "output_type": "display_data"
    }
   ],
   "source": [
    "plt.hist(toyota1[\"Quarterly_Tax\"])"
   ]
  },
  {
   "cell_type": "code",
   "execution_count": null,
   "metadata": {},
   "outputs": [],
   "source": [
    "# The data is unevenly distributed, right skewed data"
   ]
  },
  {
   "cell_type": "code",
   "execution_count": 33,
   "metadata": {},
   "outputs": [
    {
     "data": {
      "text/plain": [
       "(array([664., 620., 107.,  18.,  19.,   3.,   0.,   4.,   0.,   1.]),\n",
       " array([1000. , 1061.5, 1123. , 1184.5, 1246. , 1307.5, 1369. , 1430.5,\n",
       "        1492. , 1553.5, 1615. ]),\n",
       " <a list of 10 Patch objects>)"
      ]
     },
     "execution_count": 33,
     "metadata": {},
     "output_type": "execute_result"
    },
    {
     "data": {
      "image/png": "[encoded data removed]",
      "text/plain": [
       "<Figure size 432x288 with 1 Axes>"
      ]
     },
     "metadata": {
      "needs_background": "light"
     },
     "output_type": "display_data"
    }
   ],
   "source": [
    "plt.hist(toyota1[\"Weight\"])"
   ]
  },
  {
   "cell_type": "code",
   "execution_count": null,
   "metadata": {},
   "outputs": [],
   "source": [
    "# The data is right skewed."
   ]
  },
  {
   "cell_type": "code",
   "execution_count": 34,
   "metadata": {},
   "outputs": [
    {
     "data": {
      "image/png": "[encoded data removed]",
      "text/plain": [
       "<Figure size 432x288 with 1 Axes>"
      ]
     },
     "execution_count": 34,
     "metadata": {},
     "output_type": "execute_result"
    },
    {
     "data": {
      "image/png": "[encoded data removed]",
      "text/plain": [
       "<Figure size 432x288 with 1 Axes>"
      ]
     },
     "metadata": {
      "needs_background": "light"
     },
     "output_type": "display_data"
    }
   ],
   "source": [
    "sm.graphics.qqplot(toyota1[\"Price\"]) "
   ]
  },
  {
   "cell_type": "code",
   "execution_count": null,
   "metadata": {},
   "outputs": [],
   "source": [
    "##shows the data \"Price\" is not normal \n",
    "\n"
   ]
  },
  {
   "cell_type": "code",
   "execution_count": 35,
   "metadata": {},
   "outputs": [
    {
     "data": {
      "text/html": [
       "<table class=\"simpletable\">\n",
       "<caption>OLS Regression Results</caption>\n",
       "<tr>\n",
       "  <th>Dep. Variable:</th>          <td>Price</td>      <th>  R-squared:         </th> <td>   0.864</td> \n",
       "</tr>\n",
       "<tr>\n",
       "  <th>Model:</th>                   <td>OLS</td>       <th>  Adj. R-squared:    </th> <td>   0.863</td> \n",
       "</tr>\n",
       "<tr>\n",
       "  <th>Method:</th>             <td>Least Squares</td>  <th>  F-statistic:       </th> <td>   1131.</td> \n",
       "</tr>\n",
       "<tr>\n",
       "  <th>Date:</th>             <td>Tue, 29 Dec 2020</td> <th>  Prob (F-statistic):</th>  <td>  0.00</td>  \n",
       "</tr>\n",
       "<tr>\n",
       "  <th>Time:</th>                 <td>10:27:32</td>     <th>  Log-Likelihood:    </th> <td> -12376.</td> \n",
       "</tr>\n",
       "<tr>\n",
       "  <th>No. Observations:</th>      <td>  1436</td>      <th>  AIC:               </th> <td>2.477e+04</td>\n",
       "</tr>\n",
       "<tr>\n",
       "  <th>Df Residuals:</th>          <td>  1427</td>      <th>  BIC:               </th> <td>2.482e+04</td>\n",
       "</tr>\n",
       "<tr>\n",
       "  <th>Df Model:</th>              <td>     8</td>      <th>                     </th>     <td> </td>    \n",
       "</tr>\n",
       "<tr>\n",
       "  <th>Covariance Type:</th>      <td>nonrobust</td>    <th>                     </th>     <td> </td>    \n",
       "</tr>\n",
       "</table>\n",
       "<table class=\"simpletable\">\n",
       "<tr>\n",
       "        <td></td>           <th>coef</th>     <th>std err</th>      <th>t</th>      <th>P>|t|</th>  <th>[0.025</th>    <th>0.975]</th>  \n",
       "</tr>\n",
       "<tr>\n",
       "  <th>Intercept</th>     <td>-5573.1064</td> <td> 1411.390</td> <td>   -3.949</td> <td> 0.000</td> <td>-8341.728</td> <td>-2804.485</td>\n",
       "</tr>\n",
       "<tr>\n",
       "  <th>Age</th>           <td> -121.6584</td> <td>    2.616</td> <td>  -46.512</td> <td> 0.000</td> <td> -126.789</td> <td> -116.527</td>\n",
       "</tr>\n",
       "<tr>\n",
       "  <th>KM</th>            <td>   -0.0208</td> <td>    0.001</td> <td>  -16.622</td> <td> 0.000</td> <td>   -0.023</td> <td>   -0.018</td>\n",
       "</tr>\n",
       "<tr>\n",
       "  <th>HP</th>            <td>   31.6809</td> <td>    2.818</td> <td>   11.241</td> <td> 0.000</td> <td>   26.152</td> <td>   37.209</td>\n",
       "</tr>\n",
       "<tr>\n",
       "  <th>cc</th>            <td>   -0.1211</td> <td>    0.090</td> <td>   -1.344</td> <td> 0.179</td> <td>   -0.298</td> <td>    0.056</td>\n",
       "</tr>\n",
       "<tr>\n",
       "  <th>Doors</th>         <td>   -1.6166</td> <td>   40.006</td> <td>   -0.040</td> <td> 0.968</td> <td>  -80.093</td> <td>   76.859</td>\n",
       "</tr>\n",
       "<tr>\n",
       "  <th>Gears</th>         <td>  594.3199</td> <td>  197.055</td> <td>    3.016</td> <td> 0.003</td> <td>  207.771</td> <td>  980.869</td>\n",
       "</tr>\n",
       "<tr>\n",
       "  <th>Quarterly_Tax</th> <td>    3.9491</td> <td>    1.310</td> <td>    3.015</td> <td> 0.003</td> <td>    1.379</td> <td>    6.519</td>\n",
       "</tr>\n",
       "<tr>\n",
       "  <th>Weight</th>        <td>   16.9586</td> <td>    1.068</td> <td>   15.880</td> <td> 0.000</td> <td>   14.864</td> <td>   19.054</td>\n",
       "</tr>\n",
       "</table>\n",
       "<table class=\"simpletable\">\n",
       "<tr>\n",
       "  <th>Omnibus:</th>       <td>151.719</td> <th>  Durbin-Watson:     </th> <td>   1.543</td> \n",
       "</tr>\n",
       "<tr>\n",
       "  <th>Prob(Omnibus):</th> <td> 0.000</td>  <th>  Jarque-Bera (JB):  </th> <td>1011.853</td> \n",
       "</tr>\n",
       "<tr>\n",
       "  <th>Skew:</th>          <td>-0.219</td>  <th>  Prob(JB):          </th> <td>1.90e-220</td>\n",
       "</tr>\n",
       "<tr>\n",
       "  <th>Kurtosis:</th>      <td> 7.089</td>  <th>  Cond. No.          </th> <td>3.13e+06</td> \n",
       "</tr>\n",
       "</table><br/><br/>Warnings:<br/>[1] Standard Errors assume that the covariance matrix of the errors is correctly specified.<br/>[2] The condition number is large, 3.13e+06. This might indicate that there are<br/>strong multicollinearity or other numerical problems."
      ],
      "text/plain": [
       "<class 'statsmodels.iolib.summary.Summary'>\n",
       "\"\"\"\n",
       "                            OLS Regression Results                            \n",
       "==============================================================================\n",
       "Dep. Variable:                  Price   R-squared:                       0.864\n",
       "Model:                            OLS   Adj. R-squared:                  0.863\n",
       "Method:                 Least Squares   F-statistic:                     1131.\n",
       "Date:                Tue, 29 Dec 2020   Prob (F-statistic):               0.00\n",
       "Time:                        10:27:32   Log-Likelihood:                -12376.\n",
       "No. Observations:                1436   AIC:                         2.477e+04\n",
       "Df Residuals:                    1427   BIC:                         2.482e+04\n",
       "Df Model:                           8                                         \n",
       "Covariance Type:            nonrobust                                         \n",
       "=================================================================================\n",
       "                    coef    std err          t      P>|t|      [0.025      0.975]\n",
       "---------------------------------------------------------------------------------\n",
       "Intercept     -5573.1064   1411.390     -3.949      0.000   -8341.728   -2804.485\n",
       "Age            -121.6584      2.616    -46.512      0.000    -126.789    -116.527\n",
       "KM               -0.0208      0.001    -16.622      0.000      -0.023      -0.018\n",
       "HP               31.6809      2.818     11.241      0.000      26.152      37.209\n",
       "cc               -0.1211      0.090     -1.344      0.179      -0.298       0.056\n",
       "Doors            -1.6166     40.006     -0.040      0.968     -80.093      76.859\n",
       "Gears           594.3199    197.055      3.016      0.003     207.771     980.869\n",
       "Quarterly_Tax     3.9491      1.310      3.015      0.003       1.379       6.519\n",
       "Weight           16.9586      1.068     15.880      0.000      14.864      19.054\n",
       "==============================================================================\n",
       "Omnibus:                      151.719   Durbin-Watson:                   1.543\n",
       "Prob(Omnibus):                  0.000   Jarque-Bera (JB):             1011.853\n",
       "Skew:                          -0.219   Prob(JB):                    1.90e-220\n",
       "Kurtosis:                       7.089   Cond. No.                     3.13e+06\n",
       "==============================================================================\n",
       "\n",
       "Warnings:\n",
       "[1] Standard Errors assume that the covariance matrix of the errors is correctly specified.\n",
       "[2] The condition number is large, 3.13e+06. This might indicate that there are\n",
       "strong multicollinearity or other numerical problems.\n",
       "\"\"\""
      ]
     },
     "execution_count": 35,
     "metadata": {},
     "output_type": "execute_result"
    }
   ],
   "source": [
    " import statsmodels.formula.api as smf\n",
    "m1= smf.ols(\"Price~Age+KM+HP+cc+Doors+Gears+Quarterly_Tax+Weight\",data= toyota1).fit()\n",
    "m1.summary()## 0.864\n",
    "\n",
    " \n",
    " \n",
    " \n",
    " \n",
    " "
   ]
  },
  {
   "cell_type": "code",
   "execution_count": null,
   "metadata": {},
   "outputs": [],
   "source": [
    "##cc and Doors are insignificant\n"
   ]
  },
  {
   "cell_type": "code",
   "execution_count": 36,
   "metadata": {},
   "outputs": [
    {
     "data": {
      "text/html": [
       "<table class=\"simpletable\">\n",
       "<caption>OLS Regression Results</caption>\n",
       "<tr>\n",
       "  <th>Dep. Variable:</th>          <td>Price</td>      <th>  R-squared:         </th> <td>   0.016</td> \n",
       "</tr>\n",
       "<tr>\n",
       "  <th>Model:</th>                   <td>OLS</td>       <th>  Adj. R-squared:    </th> <td>   0.015</td> \n",
       "</tr>\n",
       "<tr>\n",
       "  <th>Method:</th>             <td>Least Squares</td>  <th>  F-statistic:       </th> <td>   23.28</td> \n",
       "</tr>\n",
       "<tr>\n",
       "  <th>Date:</th>             <td>Tue, 29 Dec 2020</td> <th>  Prob (F-statistic):</th> <td>1.55e-06</td> \n",
       "</tr>\n",
       "<tr>\n",
       "  <th>Time:</th>                 <td>10:28:25</td>     <th>  Log-Likelihood:    </th> <td> -13795.</td> \n",
       "</tr>\n",
       "<tr>\n",
       "  <th>No. Observations:</th>      <td>  1436</td>      <th>  AIC:               </th> <td>2.759e+04</td>\n",
       "</tr>\n",
       "<tr>\n",
       "  <th>Df Residuals:</th>          <td>  1434</td>      <th>  BIC:               </th> <td>2.760e+04</td>\n",
       "</tr>\n",
       "<tr>\n",
       "  <th>Df Model:</th>              <td>     1</td>      <th>                     </th>     <td> </td>    \n",
       "</tr>\n",
       "<tr>\n",
       "  <th>Covariance Type:</th>      <td>nonrobust</td>    <th>                     </th>     <td> </td>    \n",
       "</tr>\n",
       "</table>\n",
       "<table class=\"simpletable\">\n",
       "<tr>\n",
       "      <td></td>         <th>coef</th>     <th>std err</th>      <th>t</th>      <th>P>|t|</th>  <th>[0.025</th>    <th>0.975]</th>  \n",
       "</tr>\n",
       "<tr>\n",
       "  <th>Intercept</th> <td> 9027.5548</td> <td>  365.576</td> <td>   24.694</td> <td> 0.000</td> <td> 8310.435</td> <td> 9744.675</td>\n",
       "</tr>\n",
       "<tr>\n",
       "  <th>cc</th>        <td>    1.0802</td> <td>    0.224</td> <td>    4.825</td> <td> 0.000</td> <td>    0.641</td> <td>    1.519</td>\n",
       "</tr>\n",
       "</table>\n",
       "<table class=\"simpletable\">\n",
       "<tr>\n",
       "  <th>Omnibus:</th>       <td>465.181</td> <th>  Durbin-Watson:     </th> <td>   0.267</td> \n",
       "</tr>\n",
       "<tr>\n",
       "  <th>Prob(Omnibus):</th> <td> 0.000</td>  <th>  Jarque-Bera (JB):  </th> <td>1390.401</td> \n",
       "</tr>\n",
       "<tr>\n",
       "  <th>Skew:</th>          <td> 1.649</td>  <th>  Prob(JB):          </th> <td>1.20e-302</td>\n",
       "</tr>\n",
       "<tr>\n",
       "  <th>Kurtosis:</th>      <td> 6.516</td>  <th>  Cond. No.          </th> <td>6.29e+03</td> \n",
       "</tr>\n",
       "</table><br/><br/>Warnings:<br/>[1] Standard Errors assume that the covariance matrix of the errors is correctly specified.<br/>[2] The condition number is large, 6.29e+03. This might indicate that there are<br/>strong multicollinearity or other numerical problems."
      ],
      "text/plain": [
       "<class 'statsmodels.iolib.summary.Summary'>\n",
       "\"\"\"\n",
       "                            OLS Regression Results                            \n",
       "==============================================================================\n",
       "Dep. Variable:                  Price   R-squared:                       0.016\n",
       "Model:                            OLS   Adj. R-squared:                  0.015\n",
       "Method:                 Least Squares   F-statistic:                     23.28\n",
       "Date:                Tue, 29 Dec 2020   Prob (F-statistic):           1.55e-06\n",
       "Time:                        10:28:25   Log-Likelihood:                -13795.\n",
       "No. Observations:                1436   AIC:                         2.759e+04\n",
       "Df Residuals:                    1434   BIC:                         2.760e+04\n",
       "Df Model:                           1                                         \n",
       "Covariance Type:            nonrobust                                         \n",
       "==============================================================================\n",
       "                 coef    std err          t      P>|t|      [0.025      0.975]\n",
       "------------------------------------------------------------------------------\n",
       "Intercept   9027.5548    365.576     24.694      0.000    8310.435    9744.675\n",
       "cc             1.0802      0.224      4.825      0.000       0.641       1.519\n",
       "==============================================================================\n",
       "Omnibus:                      465.181   Durbin-Watson:                   0.267\n",
       "Prob(Omnibus):                  0.000   Jarque-Bera (JB):             1390.401\n",
       "Skew:                           1.649   Prob(JB):                    1.20e-302\n",
       "Kurtosis:                       6.516   Cond. No.                     6.29e+03\n",
       "==============================================================================\n",
       "\n",
       "Warnings:\n",
       "[1] Standard Errors assume that the covariance matrix of the errors is correctly specified.\n",
       "[2] The condition number is large, 6.29e+03. This might indicate that there are\n",
       "strong multicollinearity or other numerical problems.\n",
       "\"\"\""
      ]
     },
     "execution_count": 36,
     "metadata": {},
     "output_type": "execute_result"
    }
   ],
   "source": [
    "## building on individual model\n",
    "m1_cc = smf.ols(\"Price~cc\",data= toyota1).fit()\n",
    "m1_cc.summary()"
   ]
  },
  {
   "cell_type": "code",
   "execution_count": null,
   "metadata": {},
   "outputs": [],
   "source": [
    "## cc is significant\n"
   ]
  },
  {
   "cell_type": "code",
   "execution_count": 37,
   "metadata": {},
   "outputs": [
    {
     "data": {
      "text/html": [
       "<table class=\"simpletable\">\n",
       "<caption>OLS Regression Results</caption>\n",
       "<tr>\n",
       "  <th>Dep. Variable:</th>          <td>Price</td>      <th>  R-squared:         </th> <td>   0.034</td> \n",
       "</tr>\n",
       "<tr>\n",
       "  <th>Model:</th>                   <td>OLS</td>       <th>  Adj. R-squared:    </th> <td>   0.034</td> \n",
       "</tr>\n",
       "<tr>\n",
       "  <th>Method:</th>             <td>Least Squares</td>  <th>  F-statistic:       </th> <td>   51.00</td> \n",
       "</tr>\n",
       "<tr>\n",
       "  <th>Date:</th>             <td>Tue, 29 Dec 2020</td> <th>  Prob (F-statistic):</th> <td>1.46e-12</td> \n",
       "</tr>\n",
       "<tr>\n",
       "  <th>Time:</th>                 <td>10:29:02</td>     <th>  Log-Likelihood:    </th> <td> -13782.</td> \n",
       "</tr>\n",
       "<tr>\n",
       "  <th>No. Observations:</th>      <td>  1436</td>      <th>  AIC:               </th> <td>2.757e+04</td>\n",
       "</tr>\n",
       "<tr>\n",
       "  <th>Df Residuals:</th>          <td>  1434</td>      <th>  BIC:               </th> <td>2.758e+04</td>\n",
       "</tr>\n",
       "<tr>\n",
       "  <th>Df Model:</th>              <td>     1</td>      <th>                     </th>     <td> </td>    \n",
       "</tr>\n",
       "<tr>\n",
       "  <th>Covariance Type:</th>      <td>nonrobust</td>    <th>                     </th>     <td> </td>    \n",
       "</tr>\n",
       "</table>\n",
       "<table class=\"simpletable\">\n",
       "<tr>\n",
       "      <td></td>         <th>coef</th>     <th>std err</th>      <th>t</th>      <th>P>|t|</th>  <th>[0.025</th>    <th>0.975]</th>  \n",
       "</tr>\n",
       "<tr>\n",
       "  <th>Intercept</th> <td> 7885.0058</td> <td>  409.438</td> <td>   19.258</td> <td> 0.000</td> <td> 7081.843</td> <td> 8688.168</td>\n",
       "</tr>\n",
       "<tr>\n",
       "  <th>Doors</th>     <td>  705.5586</td> <td>   98.795</td> <td>    7.142</td> <td> 0.000</td> <td>  511.761</td> <td>  899.356</td>\n",
       "</tr>\n",
       "</table>\n",
       "<table class=\"simpletable\">\n",
       "<tr>\n",
       "  <th>Omnibus:</th>       <td>466.779</td> <th>  Durbin-Watson:     </th> <td>   0.287</td> \n",
       "</tr>\n",
       "<tr>\n",
       "  <th>Prob(Omnibus):</th> <td> 0.000</td>  <th>  Jarque-Bera (JB):  </th> <td>1406.209</td> \n",
       "</tr>\n",
       "<tr>\n",
       "  <th>Skew:</th>          <td> 1.651</td>  <th>  Prob(JB):          </th> <td>4.42e-306</td>\n",
       "</tr>\n",
       "<tr>\n",
       "  <th>Kurtosis:</th>      <td> 6.549</td>  <th>  Cond. No.          </th> <td>    19.0</td> \n",
       "</tr>\n",
       "</table><br/><br/>Warnings:<br/>[1] Standard Errors assume that the covariance matrix of the errors is correctly specified."
      ],
      "text/plain": [
       "<class 'statsmodels.iolib.summary.Summary'>\n",
       "\"\"\"\n",
       "                            OLS Regression Results                            \n",
       "==============================================================================\n",
       "Dep. Variable:                  Price   R-squared:                       0.034\n",
       "Model:                            OLS   Adj. R-squared:                  0.034\n",
       "Method:                 Least Squares   F-statistic:                     51.00\n",
       "Date:                Tue, 29 Dec 2020   Prob (F-statistic):           1.46e-12\n",
       "Time:                        10:29:02   Log-Likelihood:                -13782.\n",
       "No. Observations:                1436   AIC:                         2.757e+04\n",
       "Df Residuals:                    1434   BIC:                         2.758e+04\n",
       "Df Model:                           1                                         \n",
       "Covariance Type:            nonrobust                                         \n",
       "==============================================================================\n",
       "                 coef    std err          t      P>|t|      [0.025      0.975]\n",
       "------------------------------------------------------------------------------\n",
       "Intercept   7885.0058    409.438     19.258      0.000    7081.843    8688.168\n",
       "Doors        705.5586     98.795      7.142      0.000     511.761     899.356\n",
       "==============================================================================\n",
       "Omnibus:                      466.779   Durbin-Watson:                   0.287\n",
       "Prob(Omnibus):                  0.000   Jarque-Bera (JB):             1406.209\n",
       "Skew:                           1.651   Prob(JB):                    4.42e-306\n",
       "Kurtosis:                       6.549   Cond. No.                         19.0\n",
       "==============================================================================\n",
       "\n",
       "Warnings:\n",
       "[1] Standard Errors assume that the covariance matrix of the errors is correctly specified.\n",
       "\"\"\""
      ]
     },
     "execution_count": 37,
     "metadata": {},
     "output_type": "execute_result"
    }
   ],
   "source": [
    "m1_doors = smf.ols(\"Price~Doors\", data= toyota1).fit()\n",
    "m1_doors.summary()"
   ]
  },
  {
   "cell_type": "code",
   "execution_count": null,
   "metadata": {},
   "outputs": [],
   "source": [
    "## doors is also significant\n"
   ]
  },
  {
   "cell_type": "code",
   "execution_count": 38,
   "metadata": {},
   "outputs": [
    {
     "data": {
      "text/html": [
       "<table class=\"simpletable\">\n",
       "<caption>OLS Regression Results</caption>\n",
       "<tr>\n",
       "  <th>Dep. Variable:</th>          <td>Price</td>      <th>  R-squared:         </th> <td>   0.047</td> \n",
       "</tr>\n",
       "<tr>\n",
       "  <th>Model:</th>                   <td>OLS</td>       <th>  Adj. R-squared:    </th> <td>   0.046</td> \n",
       "</tr>\n",
       "<tr>\n",
       "  <th>Method:</th>             <td>Least Squares</td>  <th>  F-statistic:       </th> <td>   35.24</td> \n",
       "</tr>\n",
       "<tr>\n",
       "  <th>Date:</th>             <td>Tue, 29 Dec 2020</td> <th>  Prob (F-statistic):</th> <td>1.15e-15</td> \n",
       "</tr>\n",
       "<tr>\n",
       "  <th>Time:</th>                 <td>10:29:39</td>     <th>  Log-Likelihood:    </th> <td> -13772.</td> \n",
       "</tr>\n",
       "<tr>\n",
       "  <th>No. Observations:</th>      <td>  1436</td>      <th>  AIC:               </th> <td>2.755e+04</td>\n",
       "</tr>\n",
       "<tr>\n",
       "  <th>Df Residuals:</th>          <td>  1433</td>      <th>  BIC:               </th> <td>2.757e+04</td>\n",
       "</tr>\n",
       "<tr>\n",
       "  <th>Df Model:</th>              <td>     2</td>      <th>                     </th>     <td> </td>    \n",
       "</tr>\n",
       "<tr>\n",
       "  <th>Covariance Type:</th>      <td>nonrobust</td>    <th>                     </th>     <td> </td>    \n",
       "</tr>\n",
       "</table>\n",
       "<table class=\"simpletable\">\n",
       "<tr>\n",
       "      <td></td>         <th>coef</th>     <th>std err</th>      <th>t</th>      <th>P>|t|</th>  <th>[0.025</th>    <th>0.975]</th>  \n",
       "</tr>\n",
       "<tr>\n",
       "  <th>Intercept</th> <td> 6509.4211</td> <td>  515.773</td> <td>   12.621</td> <td> 0.000</td> <td> 5497.670</td> <td> 7521.173</td>\n",
       "</tr>\n",
       "<tr>\n",
       "  <th>cc</th>        <td>    0.9597</td> <td>    0.221</td> <td>    4.340</td> <td> 0.000</td> <td>    0.526</td> <td>    1.393</td>\n",
       "</tr>\n",
       "<tr>\n",
       "  <th>Doors</th>     <td>  671.3973</td> <td>   98.501</td> <td>    6.816</td> <td> 0.000</td> <td>  478.176</td> <td>  864.619</td>\n",
       "</tr>\n",
       "</table>\n",
       "<table class=\"simpletable\">\n",
       "<tr>\n",
       "  <th>Omnibus:</th>       <td>448.845</td> <th>  Durbin-Watson:     </th> <td>   0.290</td> \n",
       "</tr>\n",
       "<tr>\n",
       "  <th>Prob(Omnibus):</th> <td> 0.000</td>  <th>  Jarque-Bera (JB):  </th> <td>1294.854</td> \n",
       "</tr>\n",
       "<tr>\n",
       "  <th>Skew:</th>          <td> 1.603</td>  <th>  Prob(JB):          </th> <td>6.70e-282</td>\n",
       "</tr>\n",
       "<tr>\n",
       "  <th>Kurtosis:</th>      <td> 6.370</td>  <th>  Cond. No.          </th> <td>9.09e+03</td> \n",
       "</tr>\n",
       "</table><br/><br/>Warnings:<br/>[1] Standard Errors assume that the covariance matrix of the errors is correctly specified.<br/>[2] The condition number is large, 9.09e+03. This might indicate that there are<br/>strong multicollinearity or other numerical problems."
      ],
      "text/plain": [
       "<class 'statsmodels.iolib.summary.Summary'>\n",
       "\"\"\"\n",
       "                            OLS Regression Results                            \n",
       "==============================================================================\n",
       "Dep. Variable:                  Price   R-squared:                       0.047\n",
       "Model:                            OLS   Adj. R-squared:                  0.046\n",
       "Method:                 Least Squares   F-statistic:                     35.24\n",
       "Date:                Tue, 29 Dec 2020   Prob (F-statistic):           1.15e-15\n",
       "Time:                        10:29:39   Log-Likelihood:                -13772.\n",
       "No. Observations:                1436   AIC:                         2.755e+04\n",
       "Df Residuals:                    1433   BIC:                         2.757e+04\n",
       "Df Model:                           2                                         \n",
       "Covariance Type:            nonrobust                                         \n",
       "==============================================================================\n",
       "                 coef    std err          t      P>|t|      [0.025      0.975]\n",
       "------------------------------------------------------------------------------\n",
       "Intercept   6509.4211    515.773     12.621      0.000    5497.670    7521.173\n",
       "cc             0.9597      0.221      4.340      0.000       0.526       1.393\n",
       "Doors        671.3973     98.501      6.816      0.000     478.176     864.619\n",
       "==============================================================================\n",
       "Omnibus:                      448.845   Durbin-Watson:                   0.290\n",
       "Prob(Omnibus):                  0.000   Jarque-Bera (JB):             1294.854\n",
       "Skew:                           1.603   Prob(JB):                    6.70e-282\n",
       "Kurtosis:                       6.370   Cond. No.                     9.09e+03\n",
       "==============================================================================\n",
       "\n",
       "Warnings:\n",
       "[1] Standard Errors assume that the covariance matrix of the errors is correctly specified.\n",
       "[2] The condition number is large, 9.09e+03. This might indicate that there are\n",
       "strong multicollinearity or other numerical problems.\n",
       "\"\"\""
      ]
     },
     "execution_count": 38,
     "metadata": {},
     "output_type": "execute_result"
    }
   ],
   "source": [
    "m1_to = smf.ols(\"Price~cc+Doors\",data= toyota1).fit()\n",
    "m1_to.summary()"
   ]
  },
  {
   "cell_type": "code",
   "execution_count": null,
   "metadata": {},
   "outputs": [],
   "source": [
    "## both are signifiant"
   ]
  },
  {
   "cell_type": "code",
   "execution_count": 39,
   "metadata": {},
   "outputs": [
    {
     "data": {
      "image/png": "[encoded data removed]",
      "text/plain": [
       "<Figure size 432x288 with 1 Axes>"
      ]
     },
     "execution_count": 39,
     "metadata": {},
     "output_type": "execute_result"
    },
    {
     "data": {
      "image/png": "[encoded data removed]",
      "text/plain": [
       "<Figure size 432x288 with 1 Axes>"
      ]
     },
     "metadata": {
      "needs_background": "light"
     },
     "output_type": "display_data"
    }
   ],
   "source": [
    "##plotting the influence plot\n",
    "import statsmodels.api as sm\n",
    "sm.graphics.influence_plot(m1)\n"
   ]
  },
  {
   "cell_type": "code",
   "execution_count": 41,
   "metadata": {},
   "outputs": [
    {
     "data": {
      "text/html": [
       "<table class=\"simpletable\">\n",
       "<caption>OLS Regression Results</caption>\n",
       "<tr>\n",
       "  <th>Dep. Variable:</th>          <td>Price</td>      <th>  R-squared:         </th> <td>   0.869</td> \n",
       "</tr>\n",
       "<tr>\n",
       "  <th>Model:</th>                   <td>OLS</td>       <th>  Adj. R-squared:    </th> <td>   0.869</td> \n",
       "</tr>\n",
       "<tr>\n",
       "  <th>Method:</th>             <td>Least Squares</td>  <th>  F-statistic:       </th> <td>   1186.</td> \n",
       "</tr>\n",
       "<tr>\n",
       "  <th>Date:</th>             <td>Tue, 29 Dec 2020</td> <th>  Prob (F-statistic):</th>  <td>  0.00</td>  \n",
       "</tr>\n",
       "<tr>\n",
       "  <th>Time:</th>                 <td>10:31:18</td>     <th>  Log-Likelihood:    </th> <td> -12335.</td> \n",
       "</tr>\n",
       "<tr>\n",
       "  <th>No. Observations:</th>      <td>  1435</td>      <th>  AIC:               </th> <td>2.469e+04</td>\n",
       "</tr>\n",
       "<tr>\n",
       "  <th>Df Residuals:</th>          <td>  1426</td>      <th>  BIC:               </th> <td>2.473e+04</td>\n",
       "</tr>\n",
       "<tr>\n",
       "  <th>Df Model:</th>              <td>     8</td>      <th>                     </th>     <td> </td>    \n",
       "</tr>\n",
       "<tr>\n",
       "  <th>Covariance Type:</th>      <td>nonrobust</td>    <th>                     </th>     <td> </td>    \n",
       "</tr>\n",
       "</table>\n",
       "<table class=\"simpletable\">\n",
       "<tr>\n",
       "        <td></td>           <th>coef</th>     <th>std err</th>      <th>t</th>      <th>P>|t|</th>  <th>[0.025</th>    <th>0.975]</th>  \n",
       "</tr>\n",
       "<tr>\n",
       "  <th>Intercept</th>     <td>-6284.7401</td> <td> 1382.748</td> <td>   -4.545</td> <td> 0.000</td> <td>-8997.180</td> <td>-3572.301</td>\n",
       "</tr>\n",
       "<tr>\n",
       "  <th>Age</th>           <td> -120.4550</td> <td>    2.562</td> <td>  -47.021</td> <td> 0.000</td> <td> -125.480</td> <td> -115.430</td>\n",
       "</tr>\n",
       "<tr>\n",
       "  <th>KM</th>            <td>   -0.0178</td> <td>    0.001</td> <td>  -13.973</td> <td> 0.000</td> <td>   -0.020</td> <td>   -0.015</td>\n",
       "</tr>\n",
       "<tr>\n",
       "  <th>HP</th>            <td>   39.3463</td> <td>    2.911</td> <td>   13.516</td> <td> 0.000</td> <td>   33.636</td> <td>   45.057</td>\n",
       "</tr>\n",
       "<tr>\n",
       "  <th>cc</th>            <td>   -2.5242</td> <td>    0.307</td> <td>   -8.216</td> <td> 0.000</td> <td>   -3.127</td> <td>   -1.922</td>\n",
       "</tr>\n",
       "<tr>\n",
       "  <th>Doors</th>         <td>  -27.2285</td> <td>   39.241</td> <td>   -0.694</td> <td> 0.488</td> <td> -104.206</td> <td>   49.749</td>\n",
       "</tr>\n",
       "<tr>\n",
       "  <th>Gears</th>         <td>  523.9416</td> <td>  192.865</td> <td>    2.717</td> <td> 0.007</td> <td>  145.612</td> <td>  902.271</td>\n",
       "</tr>\n",
       "<tr>\n",
       "  <th>Quarterly_Tax</th> <td>    9.0440</td> <td>    1.425</td> <td>    6.348</td> <td> 0.000</td> <td>    6.249</td> <td>   11.839</td>\n",
       "</tr>\n",
       "<tr>\n",
       "  <th>Weight</th>        <td>   20.1655</td> <td>    1.116</td> <td>   18.076</td> <td> 0.000</td> <td>   17.977</td> <td>   22.354</td>\n",
       "</tr>\n",
       "</table>\n",
       "<table class=\"simpletable\">\n",
       "<tr>\n",
       "  <th>Omnibus:</th>       <td>246.945</td> <th>  Durbin-Watson:     </th> <td>   1.595</td>\n",
       "</tr>\n",
       "<tr>\n",
       "  <th>Prob(Omnibus):</th> <td> 0.000</td>  <th>  Jarque-Bera (JB):  </th> <td>2706.374</td>\n",
       "</tr>\n",
       "<tr>\n",
       "  <th>Skew:</th>          <td>-0.443</td>  <th>  Prob(JB):          </th> <td>    0.00</td>\n",
       "</tr>\n",
       "<tr>\n",
       "  <th>Kurtosis:</th>      <td> 9.669</td>  <th>  Cond. No.          </th> <td>3.13e+06</td>\n",
       "</tr>\n",
       "</table><br/><br/>Warnings:<br/>[1] Standard Errors assume that the covariance matrix of the errors is correctly specified.<br/>[2] The condition number is large, 3.13e+06. This might indicate that there are<br/>strong multicollinearity or other numerical problems."
      ],
      "text/plain": [
       "<class 'statsmodels.iolib.summary.Summary'>\n",
       "\"\"\"\n",
       "                            OLS Regression Results                            \n",
       "==============================================================================\n",
       "Dep. Variable:                  Price   R-squared:                       0.869\n",
       "Model:                            OLS   Adj. R-squared:                  0.869\n",
       "Method:                 Least Squares   F-statistic:                     1186.\n",
       "Date:                Tue, 29 Dec 2020   Prob (F-statistic):               0.00\n",
       "Time:                        10:31:18   Log-Likelihood:                -12335.\n",
       "No. Observations:                1435   AIC:                         2.469e+04\n",
       "Df Residuals:                    1426   BIC:                         2.473e+04\n",
       "Df Model:                           8                                         \n",
       "Covariance Type:            nonrobust                                         \n",
       "=================================================================================\n",
       "                    coef    std err          t      P>|t|      [0.025      0.975]\n",
       "---------------------------------------------------------------------------------\n",
       "Intercept     -6284.7401   1382.748     -4.545      0.000   -8997.180   -3572.301\n",
       "Age            -120.4550      2.562    -47.021      0.000    -125.480    -115.430\n",
       "KM               -0.0178      0.001    -13.973      0.000      -0.020      -0.015\n",
       "HP               39.3463      2.911     13.516      0.000      33.636      45.057\n",
       "cc               -2.5242      0.307     -8.216      0.000      -3.127      -1.922\n",
       "Doors           -27.2285     39.241     -0.694      0.488    -104.206      49.749\n",
       "Gears           523.9416    192.865      2.717      0.007     145.612     902.271\n",
       "Quarterly_Tax     9.0440      1.425      6.348      0.000       6.249      11.839\n",
       "Weight           20.1655      1.116     18.076      0.000      17.977      22.354\n",
       "==============================================================================\n",
       "Omnibus:                      246.945   Durbin-Watson:                   1.595\n",
       "Prob(Omnibus):                  0.000   Jarque-Bera (JB):             2706.374\n",
       "Skew:                          -0.443   Prob(JB):                         0.00\n",
       "Kurtosis:                       9.669   Cond. No.                     3.13e+06\n",
       "==============================================================================\n",
       "\n",
       "Warnings:\n",
       "[1] Standard Errors assume that the covariance matrix of the errors is correctly specified.\n",
       "[2] The condition number is large, 3.13e+06. This might indicate that there are\n",
       "strong multicollinearity or other numerical problems.\n",
       "\"\"\""
      ]
     },
     "execution_count": 41,
     "metadata": {},
     "output_type": "execute_result"
    }
   ],
   "source": [
    "##removing 80 and checking for significance\n",
    "toyota2= toyota1.drop(df.index[[80]],axis=0)\n",
    "m2= smf.ols(\"Price~Age+KM+HP+cc+Doors+Gears+Quarterly_Tax+Weight\",data= toyota2).fit()\n",
    "m2.summary()"
   ]
  },
  {
   "cell_type": "code",
   "execution_count": null,
   "metadata": {},
   "outputs": [],
   "source": [
    "## Doors is insignificant"
   ]
  },
  {
   "cell_type": "code",
   "execution_count": 43,
   "metadata": {},
   "outputs": [],
   "source": [
    "## removing 80 and 221, where 221 is the next most influencing index\n",
    "toyota3 = toyota1.drop(df.index[[80,221]],axis=0)\n"
   ]
  },
  {
   "cell_type": "code",
   "execution_count": 44,
   "metadata": {},
   "outputs": [
    {
     "data": {
      "text/html": [
       "<table class=\"simpletable\">\n",
       "<caption>OLS Regression Results</caption>\n",
       "<tr>\n",
       "  <th>Dep. Variable:</th>          <td>Price</td>      <th>  R-squared:         </th> <td>   0.878</td> \n",
       "</tr>\n",
       "<tr>\n",
       "  <th>Model:</th>                   <td>OLS</td>       <th>  Adj. R-squared:    </th> <td>   0.877</td> \n",
       "</tr>\n",
       "<tr>\n",
       "  <th>Method:</th>             <td>Least Squares</td>  <th>  F-statistic:       </th> <td>   1280.</td> \n",
       "</tr>\n",
       "<tr>\n",
       "  <th>Date:</th>             <td>Tue, 29 Dec 2020</td> <th>  Prob (F-statistic):</th>  <td>  0.00</td>  \n",
       "</tr>\n",
       "<tr>\n",
       "  <th>Time:</th>                 <td>10:32:23</td>     <th>  Log-Likelihood:    </th> <td> -12278.</td> \n",
       "</tr>\n",
       "<tr>\n",
       "  <th>No. Observations:</th>      <td>  1434</td>      <th>  AIC:               </th> <td>2.457e+04</td>\n",
       "</tr>\n",
       "<tr>\n",
       "  <th>Df Residuals:</th>          <td>  1425</td>      <th>  BIC:               </th> <td>2.462e+04</td>\n",
       "</tr>\n",
       "<tr>\n",
       "  <th>Df Model:</th>              <td>     8</td>      <th>                     </th>     <td> </td>    \n",
       "</tr>\n",
       "<tr>\n",
       "  <th>Covariance Type:</th>      <td>nonrobust</td>    <th>                     </th>     <td> </td>    \n",
       "</tr>\n",
       "</table>\n",
       "<table class=\"simpletable\">\n",
       "<tr>\n",
       "        <td></td>           <th>coef</th>     <th>std err</th>      <th>t</th>      <th>P>|t|</th>  <th>[0.025</th>    <th>0.975]</th>  \n",
       "</tr>\n",
       "<tr>\n",
       "  <th>Intercept</th>     <td>-1.025e+04</td> <td> 1395.733</td> <td>   -7.346</td> <td> 0.000</td> <td> -1.3e+04</td> <td>-7514.512</td>\n",
       "</tr>\n",
       "<tr>\n",
       "  <th>Age</th>           <td> -116.5783</td> <td>    2.508</td> <td>  -46.475</td> <td> 0.000</td> <td> -121.499</td> <td> -111.658</td>\n",
       "</tr>\n",
       "<tr>\n",
       "  <th>KM</th>            <td>   -0.0173</td> <td>    0.001</td> <td>  -13.966</td> <td> 0.000</td> <td>   -0.020</td> <td>   -0.015</td>\n",
       "</tr>\n",
       "<tr>\n",
       "  <th>HP</th>            <td>   39.2932</td> <td>    2.816</td> <td>   13.953</td> <td> 0.000</td> <td>   33.769</td> <td>   44.817</td>\n",
       "</tr>\n",
       "<tr>\n",
       "  <th>cc</th>            <td>   -3.2057</td> <td>    0.305</td> <td>  -10.511</td> <td> 0.000</td> <td>   -3.804</td> <td>   -2.607</td>\n",
       "</tr>\n",
       "<tr>\n",
       "  <th>Doors</th>         <td>  -65.3718</td> <td>   38.152</td> <td>   -1.713</td> <td> 0.087</td> <td> -140.212</td> <td>    9.468</td>\n",
       "</tr>\n",
       "<tr>\n",
       "  <th>Gears</th>         <td>  485.0462</td> <td>  186.602</td> <td>    2.599</td> <td> 0.009</td> <td>  119.001</td> <td>  851.091</td>\n",
       "</tr>\n",
       "<tr>\n",
       "  <th>Quarterly_Tax</th> <td>    7.9664</td> <td>    1.382</td> <td>    5.762</td> <td> 0.000</td> <td>    5.254</td> <td>   10.678</td>\n",
       "</tr>\n",
       "<tr>\n",
       "  <th>Weight</th>        <td>   25.0494</td> <td>    1.186</td> <td>   21.129</td> <td> 0.000</td> <td>   22.724</td> <td>   27.375</td>\n",
       "</tr>\n",
       "</table>\n",
       "<table class=\"simpletable\">\n",
       "<tr>\n",
       "  <th>Omnibus:</th>       <td>197.976</td> <th>  Durbin-Watson:     </th> <td>   1.638</td>\n",
       "</tr>\n",
       "<tr>\n",
       "  <th>Prob(Omnibus):</th> <td> 0.000</td>  <th>  Jarque-Bera (JB):  </th> <td>1765.342</td>\n",
       "</tr>\n",
       "<tr>\n",
       "  <th>Skew:</th>          <td>-0.317</td>  <th>  Prob(JB):          </th> <td>    0.00</td>\n",
       "</tr>\n",
       "<tr>\n",
       "  <th>Kurtosis:</th>      <td> 8.399</td>  <th>  Cond. No.          </th> <td>3.27e+06</td>\n",
       "</tr>\n",
       "</table><br/><br/>Warnings:<br/>[1] Standard Errors assume that the covariance matrix of the errors is correctly specified.<br/>[2] The condition number is large, 3.27e+06. This might indicate that there are<br/>strong multicollinearity or other numerical problems."
      ],
      "text/plain": [
       "<class 'statsmodels.iolib.summary.Summary'>\n",
       "\"\"\"\n",
       "                            OLS Regression Results                            \n",
       "==============================================================================\n",
       "Dep. Variable:                  Price   R-squared:                       0.878\n",
       "Model:                            OLS   Adj. R-squared:                  0.877\n",
       "Method:                 Least Squares   F-statistic:                     1280.\n",
       "Date:                Tue, 29 Dec 2020   Prob (F-statistic):               0.00\n",
       "Time:                        10:32:23   Log-Likelihood:                -12278.\n",
       "No. Observations:                1434   AIC:                         2.457e+04\n",
       "Df Residuals:                    1425   BIC:                         2.462e+04\n",
       "Df Model:                           8                                         \n",
       "Covariance Type:            nonrobust                                         \n",
       "=================================================================================\n",
       "                    coef    std err          t      P>|t|      [0.025      0.975]\n",
       "---------------------------------------------------------------------------------\n",
       "Intercept     -1.025e+04   1395.733     -7.346      0.000    -1.3e+04   -7514.512\n",
       "Age            -116.5783      2.508    -46.475      0.000    -121.499    -111.658\n",
       "KM               -0.0173      0.001    -13.966      0.000      -0.020      -0.015\n",
       "HP               39.2932      2.816     13.953      0.000      33.769      44.817\n",
       "cc               -3.2057      0.305    -10.511      0.000      -3.804      -2.607\n",
       "Doors           -65.3718     38.152     -1.713      0.087    -140.212       9.468\n",
       "Gears           485.0462    186.602      2.599      0.009     119.001     851.091\n",
       "Quarterly_Tax     7.9664      1.382      5.762      0.000       5.254      10.678\n",
       "Weight           25.0494      1.186     21.129      0.000      22.724      27.375\n",
       "==============================================================================\n",
       "Omnibus:                      197.976   Durbin-Watson:                   1.638\n",
       "Prob(Omnibus):                  0.000   Jarque-Bera (JB):             1765.342\n",
       "Skew:                          -0.317   Prob(JB):                         0.00\n",
       "Kurtosis:                       8.399   Cond. No.                     3.27e+06\n",
       "==============================================================================\n",
       "\n",
       "Warnings:\n",
       "[1] Standard Errors assume that the covariance matrix of the errors is correctly specified.\n",
       "[2] The condition number is large, 3.27e+06. This might indicate that there are\n",
       "strong multicollinearity or other numerical problems.\n",
       "\"\"\""
      ]
     },
     "execution_count": 44,
     "metadata": {},
     "output_type": "execute_result"
    }
   ],
   "source": [
    "m3= smf.ols(\"Price~Age+KM+HP+cc+Doors+Gears+Quarterly_Tax+Weight\",data= toyota3).fit()\n",
    "m3.summary() "
   ]
  },
  {
   "cell_type": "code",
   "execution_count": null,
   "metadata": {},
   "outputs": [],
   "source": [
    "## Doors is insignificant\n"
   ]
  },
  {
   "cell_type": "code",
   "execution_count": 46,
   "metadata": {},
   "outputs": [],
   "source": [
    "## removing 80,221,960, where 960 is the next most influencing index after 80,221\n",
    "toyota4= toyota1.drop(df.index[[80,221,960]],axis=0)"
   ]
  },
  {
   "cell_type": "code",
   "execution_count": 47,
   "metadata": {},
   "outputs": [
    {
     "data": {
      "text/html": [
       "<table class=\"simpletable\">\n",
       "<caption>OLS Regression Results</caption>\n",
       "<tr>\n",
       "  <th>Dep. Variable:</th>          <td>Price</td>      <th>  R-squared:         </th> <td>   0.885</td> \n",
       "</tr>\n",
       "<tr>\n",
       "  <th>Model:</th>                   <td>OLS</td>       <th>  Adj. R-squared:    </th> <td>   0.885</td> \n",
       "</tr>\n",
       "<tr>\n",
       "  <th>Method:</th>             <td>Least Squares</td>  <th>  F-statistic:       </th> <td>   1372.</td> \n",
       "</tr>\n",
       "<tr>\n",
       "  <th>Date:</th>             <td>Tue, 29 Dec 2020</td> <th>  Prob (F-statistic):</th>  <td>  0.00</td>  \n",
       "</tr>\n",
       "<tr>\n",
       "  <th>Time:</th>                 <td>10:33:39</td>     <th>  Log-Likelihood:    </th> <td> -12226.</td> \n",
       "</tr>\n",
       "<tr>\n",
       "  <th>No. Observations:</th>      <td>  1433</td>      <th>  AIC:               </th> <td>2.447e+04</td>\n",
       "</tr>\n",
       "<tr>\n",
       "  <th>Df Residuals:</th>          <td>  1424</td>      <th>  BIC:               </th> <td>2.452e+04</td>\n",
       "</tr>\n",
       "<tr>\n",
       "  <th>Df Model:</th>              <td>     8</td>      <th>                     </th>     <td> </td>    \n",
       "</tr>\n",
       "<tr>\n",
       "  <th>Covariance Type:</th>      <td>nonrobust</td>    <th>                     </th>     <td> </td>    \n",
       "</tr>\n",
       "</table>\n",
       "<table class=\"simpletable\">\n",
       "<tr>\n",
       "        <td></td>           <th>coef</th>     <th>std err</th>      <th>t</th>      <th>P>|t|</th>  <th>[0.025</th>    <th>0.975]</th>  \n",
       "</tr>\n",
       "<tr>\n",
       "  <th>Intercept</th>     <td>-1.474e+04</td> <td> 1432.942</td> <td>  -10.289</td> <td> 0.000</td> <td>-1.76e+04</td> <td>-1.19e+04</td>\n",
       "</tr>\n",
       "<tr>\n",
       "  <th>Age</th>           <td> -112.0180</td> <td>    2.479</td> <td>  -45.185</td> <td> 0.000</td> <td> -116.881</td> <td> -107.155</td>\n",
       "</tr>\n",
       "<tr>\n",
       "  <th>KM</th>            <td>   -0.0170</td> <td>    0.001</td> <td>  -14.160</td> <td> 0.000</td> <td>   -0.019</td> <td>   -0.015</td>\n",
       "</tr>\n",
       "<tr>\n",
       "  <th>HP</th>            <td>   36.6084</td> <td>    2.745</td> <td>   13.334</td> <td> 0.000</td> <td>   31.223</td> <td>   41.994</td>\n",
       "</tr>\n",
       "<tr>\n",
       "  <th>cc</th>            <td>   -3.7954</td> <td>    0.302</td> <td>  -12.562</td> <td> 0.000</td> <td>   -4.388</td> <td>   -3.203</td>\n",
       "</tr>\n",
       "<tr>\n",
       "  <th>Doors</th>         <td> -122.5437</td> <td>   37.480</td> <td>   -3.270</td> <td> 0.001</td> <td> -196.067</td> <td>  -49.021</td>\n",
       "</tr>\n",
       "<tr>\n",
       "  <th>Gears</th>         <td>  464.9839</td> <td>  180.976</td> <td>    2.569</td> <td> 0.010</td> <td>  109.975</td> <td>  819.993</td>\n",
       "</tr>\n",
       "<tr>\n",
       "  <th>Quarterly_Tax</th> <td>    5.2134</td> <td>    1.371</td> <td>    3.802</td> <td> 0.000</td> <td>    2.523</td> <td>    7.904</td>\n",
       "</tr>\n",
       "<tr>\n",
       "  <th>Weight</th>        <td>   30.6398</td> <td>    1.290</td> <td>   23.748</td> <td> 0.000</td> <td>   28.109</td> <td>   33.171</td>\n",
       "</tr>\n",
       "</table>\n",
       "<table class=\"simpletable\">\n",
       "<tr>\n",
       "  <th>Omnibus:</th>       <td>121.821</td> <th>  Durbin-Watson:     </th> <td>   1.701</td> \n",
       "</tr>\n",
       "<tr>\n",
       "  <th>Prob(Omnibus):</th> <td> 0.000</td>  <th>  Jarque-Bera (JB):  </th> <td> 704.567</td> \n",
       "</tr>\n",
       "<tr>\n",
       "  <th>Skew:</th>          <td>-0.082</td>  <th>  Prob(JB):          </th> <td>1.01e-153</td>\n",
       "</tr>\n",
       "<tr>\n",
       "  <th>Kurtosis:</th>      <td> 6.431</td>  <th>  Cond. No.          </th> <td>3.45e+06</td> \n",
       "</tr>\n",
       "</table><br/><br/>Warnings:<br/>[1] Standard Errors assume that the covariance matrix of the errors is correctly specified.<br/>[2] The condition number is large, 3.45e+06. This might indicate that there are<br/>strong multicollinearity or other numerical problems."
      ],
      "text/plain": [
       "<class 'statsmodels.iolib.summary.Summary'>\n",
       "\"\"\"\n",
       "                            OLS Regression Results                            \n",
       "==============================================================================\n",
       "Dep. Variable:                  Price   R-squared:                       0.885\n",
       "Model:                            OLS   Adj. R-squared:                  0.885\n",
       "Method:                 Least Squares   F-statistic:                     1372.\n",
       "Date:                Tue, 29 Dec 2020   Prob (F-statistic):               0.00\n",
       "Time:                        10:33:39   Log-Likelihood:                -12226.\n",
       "No. Observations:                1433   AIC:                         2.447e+04\n",
       "Df Residuals:                    1424   BIC:                         2.452e+04\n",
       "Df Model:                           8                                         \n",
       "Covariance Type:            nonrobust                                         \n",
       "=================================================================================\n",
       "                    coef    std err          t      P>|t|      [0.025      0.975]\n",
       "---------------------------------------------------------------------------------\n",
       "Intercept     -1.474e+04   1432.942    -10.289      0.000   -1.76e+04   -1.19e+04\n",
       "Age            -112.0180      2.479    -45.185      0.000    -116.881    -107.155\n",
       "KM               -0.0170      0.001    -14.160      0.000      -0.019      -0.015\n",
       "HP               36.6084      2.745     13.334      0.000      31.223      41.994\n",
       "cc               -3.7954      0.302    -12.562      0.000      -4.388      -3.203\n",
       "Doors          -122.5437     37.480     -3.270      0.001    -196.067     -49.021\n",
       "Gears           464.9839    180.976      2.569      0.010     109.975     819.993\n",
       "Quarterly_Tax     5.2134      1.371      3.802      0.000       2.523       7.904\n",
       "Weight           30.6398      1.290     23.748      0.000      28.109      33.171\n",
       "==============================================================================\n",
       "Omnibus:                      121.821   Durbin-Watson:                   1.701\n",
       "Prob(Omnibus):                  0.000   Jarque-Bera (JB):              704.567\n",
       "Skew:                          -0.082   Prob(JB):                    1.01e-153\n",
       "Kurtosis:                       6.431   Cond. No.                     3.45e+06\n",
       "==============================================================================\n",
       "\n",
       "Warnings:\n",
       "[1] Standard Errors assume that the covariance matrix of the errors is correctly specified.\n",
       "[2] The condition number is large, 3.45e+06. This might indicate that there are\n",
       "strong multicollinearity or other numerical problems.\n",
       "\"\"\""
      ]
     },
     "execution_count": 47,
     "metadata": {},
     "output_type": "execute_result"
    }
   ],
   "source": [
    "m4= smf.ols(\"Price~Age+KM+HP+cc+Doors+Gears+Quarterly_Tax+Weight\", data = toyota4).fit()\n",
    "m4.summary() ### 0.885( r squared)"
   ]
  },
  {
   "cell_type": "code",
   "execution_count": 48,
   "metadata": {},
   "outputs": [],
   "source": [
    "## all the variables are significant\n",
    "\n",
    "## As all the vaiables are significant, we select it as the final model\n",
    "\n",
    "##### final model####### "
   ]
  },
  {
   "cell_type": "code",
   "execution_count": 49,
   "metadata": {},
   "outputs": [
    {
     "data": {
      "text/html": [
       "<table class=\"simpletable\">\n",
       "<caption>OLS Regression Results</caption>\n",
       "<tr>\n",
       "  <th>Dep. Variable:</th>          <td>Price</td>      <th>  R-squared:         </th> <td>   0.885</td> \n",
       "</tr>\n",
       "<tr>\n",
       "  <th>Model:</th>                   <td>OLS</td>       <th>  Adj. R-squared:    </th> <td>   0.885</td> \n",
       "</tr>\n",
       "<tr>\n",
       "  <th>Method:</th>             <td>Least Squares</td>  <th>  F-statistic:       </th> <td>   1372.</td> \n",
       "</tr>\n",
       "<tr>\n",
       "  <th>Date:</th>             <td>Tue, 29 Dec 2020</td> <th>  Prob (F-statistic):</th>  <td>  0.00</td>  \n",
       "</tr>\n",
       "<tr>\n",
       "  <th>Time:</th>                 <td>10:34:17</td>     <th>  Log-Likelihood:    </th> <td> -12226.</td> \n",
       "</tr>\n",
       "<tr>\n",
       "  <th>No. Observations:</th>      <td>  1433</td>      <th>  AIC:               </th> <td>2.447e+04</td>\n",
       "</tr>\n",
       "<tr>\n",
       "  <th>Df Residuals:</th>          <td>  1424</td>      <th>  BIC:               </th> <td>2.452e+04</td>\n",
       "</tr>\n",
       "<tr>\n",
       "  <th>Df Model:</th>              <td>     8</td>      <th>                     </th>     <td> </td>    \n",
       "</tr>\n",
       "<tr>\n",
       "  <th>Covariance Type:</th>      <td>nonrobust</td>    <th>                     </th>     <td> </td>    \n",
       "</tr>\n",
       "</table>\n",
       "<table class=\"simpletable\">\n",
       "<tr>\n",
       "        <td></td>           <th>coef</th>     <th>std err</th>      <th>t</th>      <th>P>|t|</th>  <th>[0.025</th>    <th>0.975]</th>  \n",
       "</tr>\n",
       "<tr>\n",
       "  <th>Intercept</th>     <td>-1.474e+04</td> <td> 1432.942</td> <td>  -10.289</td> <td> 0.000</td> <td>-1.76e+04</td> <td>-1.19e+04</td>\n",
       "</tr>\n",
       "<tr>\n",
       "  <th>Age</th>           <td> -112.0180</td> <td>    2.479</td> <td>  -45.185</td> <td> 0.000</td> <td> -116.881</td> <td> -107.155</td>\n",
       "</tr>\n",
       "<tr>\n",
       "  <th>KM</th>            <td>   -0.0170</td> <td>    0.001</td> <td>  -14.160</td> <td> 0.000</td> <td>   -0.019</td> <td>   -0.015</td>\n",
       "</tr>\n",
       "<tr>\n",
       "  <th>HP</th>            <td>   36.6084</td> <td>    2.745</td> <td>   13.334</td> <td> 0.000</td> <td>   31.223</td> <td>   41.994</td>\n",
       "</tr>\n",
       "<tr>\n",
       "  <th>cc</th>            <td>   -3.7954</td> <td>    0.302</td> <td>  -12.562</td> <td> 0.000</td> <td>   -4.388</td> <td>   -3.203</td>\n",
       "</tr>\n",
       "<tr>\n",
       "  <th>Doors</th>         <td> -122.5437</td> <td>   37.480</td> <td>   -3.270</td> <td> 0.001</td> <td> -196.067</td> <td>  -49.021</td>\n",
       "</tr>\n",
       "<tr>\n",
       "  <th>Gears</th>         <td>  464.9839</td> <td>  180.976</td> <td>    2.569</td> <td> 0.010</td> <td>  109.975</td> <td>  819.993</td>\n",
       "</tr>\n",
       "<tr>\n",
       "  <th>Quarterly_Tax</th> <td>    5.2134</td> <td>    1.371</td> <td>    3.802</td> <td> 0.000</td> <td>    2.523</td> <td>    7.904</td>\n",
       "</tr>\n",
       "<tr>\n",
       "  <th>Weight</th>        <td>   30.6398</td> <td>    1.290</td> <td>   23.748</td> <td> 0.000</td> <td>   28.109</td> <td>   33.171</td>\n",
       "</tr>\n",
       "</table>\n",
       "<table class=\"simpletable\">\n",
       "<tr>\n",
       "  <th>Omnibus:</th>       <td>121.821</td> <th>  Durbin-Watson:     </th> <td>   1.701</td> \n",
       "</tr>\n",
       "<tr>\n",
       "  <th>Prob(Omnibus):</th> <td> 0.000</td>  <th>  Jarque-Bera (JB):  </th> <td> 704.567</td> \n",
       "</tr>\n",
       "<tr>\n",
       "  <th>Skew:</th>          <td>-0.082</td>  <th>  Prob(JB):          </th> <td>1.01e-153</td>\n",
       "</tr>\n",
       "<tr>\n",
       "  <th>Kurtosis:</th>      <td> 6.431</td>  <th>  Cond. No.          </th> <td>3.45e+06</td> \n",
       "</tr>\n",
       "</table><br/><br/>Warnings:<br/>[1] Standard Errors assume that the covariance matrix of the errors is correctly specified.<br/>[2] The condition number is large, 3.45e+06. This might indicate that there are<br/>strong multicollinearity or other numerical problems."
      ],
      "text/plain": [
       "<class 'statsmodels.iolib.summary.Summary'>\n",
       "\"\"\"\n",
       "                            OLS Regression Results                            \n",
       "==============================================================================\n",
       "Dep. Variable:                  Price   R-squared:                       0.885\n",
       "Model:                            OLS   Adj. R-squared:                  0.885\n",
       "Method:                 Least Squares   F-statistic:                     1372.\n",
       "Date:                Tue, 29 Dec 2020   Prob (F-statistic):               0.00\n",
       "Time:                        10:34:17   Log-Likelihood:                -12226.\n",
       "No. Observations:                1433   AIC:                         2.447e+04\n",
       "Df Residuals:                    1424   BIC:                         2.452e+04\n",
       "Df Model:                           8                                         \n",
       "Covariance Type:            nonrobust                                         \n",
       "=================================================================================\n",
       "                    coef    std err          t      P>|t|      [0.025      0.975]\n",
       "---------------------------------------------------------------------------------\n",
       "Intercept     -1.474e+04   1432.942    -10.289      0.000   -1.76e+04   -1.19e+04\n",
       "Age            -112.0180      2.479    -45.185      0.000    -116.881    -107.155\n",
       "KM               -0.0170      0.001    -14.160      0.000      -0.019      -0.015\n",
       "HP               36.6084      2.745     13.334      0.000      31.223      41.994\n",
       "cc               -3.7954      0.302    -12.562      0.000      -4.388      -3.203\n",
       "Doors          -122.5437     37.480     -3.270      0.001    -196.067     -49.021\n",
       "Gears           464.9839    180.976      2.569      0.010     109.975     819.993\n",
       "Quarterly_Tax     5.2134      1.371      3.802      0.000       2.523       7.904\n",
       "Weight           30.6398      1.290     23.748      0.000      28.109      33.171\n",
       "==============================================================================\n",
       "Omnibus:                      121.821   Durbin-Watson:                   1.701\n",
       "Prob(Omnibus):                  0.000   Jarque-Bera (JB):              704.567\n",
       "Skew:                          -0.082   Prob(JB):                    1.01e-153\n",
       "Kurtosis:                       6.431   Cond. No.                     3.45e+06\n",
       "==============================================================================\n",
       "\n",
       "Warnings:\n",
       "[1] Standard Errors assume that the covariance matrix of the errors is correctly specified.\n",
       "[2] The condition number is large, 3.45e+06. This might indicate that there are\n",
       "strong multicollinearity or other numerical problems.\n",
       "\"\"\""
      ]
     },
     "execution_count": 49,
     "metadata": {},
     "output_type": "execute_result"
    }
   ],
   "source": [
    "finalmodel = smf.ols(\"Price~Age+KM+HP+cc+Doors+Gears+Quarterly_Tax+Weight\", data = toyota4).fit()\n",
    "finalmodel.summary()### 0.885( r squared)\n"
   ]
  },
  {
   "cell_type": "code",
   "execution_count": 50,
   "metadata": {},
   "outputs": [],
   "source": [
    "##prediction#\n",
    "finalmodel_pred = finalmodel.predict(toyota4)\n"
   ]
  },
  {
   "cell_type": "code",
   "execution_count": 51,
   "metadata": {},
   "outputs": [
    {
     "data": {
      "text/plain": [
       "Text(0, 0.5, 'Predicted values')"
      ]
     },
     "execution_count": 51,
     "metadata": {},
     "output_type": "execute_result"
    },
    {
     "data": {
      "image/png": "[encoded data removed]",
      "text/plain": [
       "<Figure size 432x288 with 1 Axes>"
      ]
     },
     "metadata": {
      "needs_background": "light"
     },
     "output_type": "display_data"
    }
   ],
   "source": [
    "### validation\n",
    "#### Linerarity ###\n",
    "plt.scatter(toyota4[\"Price\"],finalmodel_pred,c='r');plt.xlabel(\"Observed values\");plt.ylabel(\"Predicted values\")\n",
    "##the observed values and fitted values are linear\n"
   ]
  },
  {
   "cell_type": "code",
   "execution_count": 52,
   "metadata": {},
   "outputs": [
    {
     "data": {
      "text/plain": [
       "Text(0, 0.5, 'Residuals')"
      ]
     },
     "execution_count": 52,
     "metadata": {},
     "output_type": "execute_result"
    },
    {
     "data": {
      "image/png": "[encoded data removed]",
      "text/plain": [
       "<Figure size 432x288 with 1 Axes>"
      ]
     },
     "metadata": {
      "needs_background": "light"
     },
     "output_type": "display_data"
    }
   ],
   "source": [
    "### Residuals v/s Fitted values\n",
    "plt.scatter(finalmodel_pred, finalmodel.resid_pearson,c='r');plt.axhline(y=0,color='blue');plt.xlabel(\"Fitted values\");plt.ylabel(\"Residuals\")\n",
    "## errors are kind off homoscadasticity i.e there is equal variance\n"
   ]
  },
  {
   "cell_type": "code",
   "execution_count": 53,
   "metadata": {},
   "outputs": [
    {
     "data": {
      "text/plain": [
       "(array([  1.,   0.,   3.,  16., 157., 723., 436.,  87.,   6.,   4.]),\n",
       " array([-7.11152315, -5.88819747, -4.6648718 , -3.44154612, -2.21822044,\n",
       "        -0.99489476,  0.22843092,  1.4517566 ,  2.67508227,  3.89840795,\n",
       "         5.12173363]),\n",
       " <a list of 10 Patch objects>)"
      ]
     },
     "execution_count": 53,
     "metadata": {},
     "output_type": "execute_result"
    },
    {
     "data": {
      "image/png": "[encoded data removed]",
      "text/plain": [
       "<Figure size 432x288 with 1 Axes>"
      ]
     },
     "metadata": {
      "needs_background": "light"
     },
     "output_type": "display_data"
    }
   ],
   "source": [
    "###Normality\n",
    "## histogram--- for checking if the errors are normally distributed or not.\n",
    "plt.hist(finalmodel.resid_pearson) \n"
   ]
  },
  {
   "cell_type": "code",
   "execution_count": 54,
   "metadata": {},
   "outputs": [
    {
     "data": {
      "text/plain": [
       "((array([-3.29990572, -3.0423199 , -2.89905096, ...,  2.89905096,\n",
       "          3.0423199 ,  3.29990572]),\n",
       "  array([-7.11152315, -4.61523681, -4.13985897, ...,  4.01261664,\n",
       "          5.00012015,  5.12173363])),\n",
       " (0.9842286314351308, -2.128875074956665e-12, 0.9853340591988056))"
      ]
     },
     "execution_count": 54,
     "metadata": {},
     "output_type": "execute_result"
    },
    {
     "data": {
      "image/png": "[encoded data removed]",
      "text/plain": [
       "<Figure size 432x288 with 1 Axes>"
      ]
     },
     "metadata": {
      "needs_background": "light"
     },
     "output_type": "display_data"
    }
   ],
   "source": [
    "## QQ plot\n",
    "import pylab\n",
    "import scipy.stats as st\n",
    "st.probplot(finalmodel.resid_pearson, dist='norm',plot=pylab)\n",
    "## Errors are normally distributed"
   ]
  },
  {
   "cell_type": "code",
   "execution_count": 55,
   "metadata": {},
   "outputs": [],
   "source": [
    "## test\n",
    "from sklearn.model_selection import train_test_split\n"
   ]
  },
  {
   "cell_type": "code",
   "execution_count": 56,
   "metadata": {},
   "outputs": [],
   "source": [
    "train_data,test_Data= train_test_split(toyota1,test_size=0.3)\n"
   ]
  },
  {
   "cell_type": "code",
   "execution_count": 57,
   "metadata": {},
   "outputs": [
    {
     "data": {
      "text/html": [
       "<table class=\"simpletable\">\n",
       "<caption>OLS Regression Results</caption>\n",
       "<tr>\n",
       "  <th>Dep. Variable:</th>          <td>Price</td>      <th>  R-squared:         </th> <td>   0.852</td> \n",
       "</tr>\n",
       "<tr>\n",
       "  <th>Model:</th>                   <td>OLS</td>       <th>  Adj. R-squared:    </th> <td>   0.851</td> \n",
       "</tr>\n",
       "<tr>\n",
       "  <th>Method:</th>             <td>Least Squares</td>  <th>  F-statistic:       </th> <td>   716.0</td> \n",
       "</tr>\n",
       "<tr>\n",
       "  <th>Date:</th>             <td>Tue, 29 Dec 2020</td> <th>  Prob (F-statistic):</th>  <td>  0.00</td>  \n",
       "</tr>\n",
       "<tr>\n",
       "  <th>Time:</th>                 <td>10:37:01</td>     <th>  Log-Likelihood:    </th> <td> -8693.6</td> \n",
       "</tr>\n",
       "<tr>\n",
       "  <th>No. Observations:</th>      <td>  1005</td>      <th>  AIC:               </th> <td>1.741e+04</td>\n",
       "</tr>\n",
       "<tr>\n",
       "  <th>Df Residuals:</th>          <td>   996</td>      <th>  BIC:               </th> <td>1.745e+04</td>\n",
       "</tr>\n",
       "<tr>\n",
       "  <th>Df Model:</th>              <td>     8</td>      <th>                     </th>     <td> </td>    \n",
       "</tr>\n",
       "<tr>\n",
       "  <th>Covariance Type:</th>      <td>nonrobust</td>    <th>                     </th>     <td> </td>    \n",
       "</tr>\n",
       "</table>\n",
       "<table class=\"simpletable\">\n",
       "<tr>\n",
       "        <td></td>           <th>coef</th>     <th>std err</th>      <th>t</th>      <th>P>|t|</th>  <th>[0.025</th>    <th>0.975]</th>  \n",
       "</tr>\n",
       "<tr>\n",
       "  <th>Intercept</th>     <td>-3558.6454</td> <td> 1642.473</td> <td>   -2.167</td> <td> 0.030</td> <td>-6781.751</td> <td> -335.540</td>\n",
       "</tr>\n",
       "<tr>\n",
       "  <th>Age</th>           <td> -123.0685</td> <td>    3.240</td> <td>  -37.979</td> <td> 0.000</td> <td> -129.427</td> <td> -116.710</td>\n",
       "</tr>\n",
       "<tr>\n",
       "  <th>KM</th>            <td>   -0.0213</td> <td>    0.002</td> <td>  -13.638</td> <td> 0.000</td> <td>   -0.024</td> <td>   -0.018</td>\n",
       "</tr>\n",
       "<tr>\n",
       "  <th>HP</th>            <td>   34.5680</td> <td>    3.333</td> <td>   10.370</td> <td> 0.000</td> <td>   28.027</td> <td>   41.109</td>\n",
       "</tr>\n",
       "<tr>\n",
       "  <th>cc</th>            <td>   -0.0607</td> <td>    0.094</td> <td>   -0.644</td> <td> 0.520</td> <td>   -0.246</td> <td>    0.124</td>\n",
       "</tr>\n",
       "<tr>\n",
       "  <th>Doors</th>         <td>   17.7439</td> <td>   49.261</td> <td>    0.360</td> <td> 0.719</td> <td>  -78.922</td> <td>  114.410</td>\n",
       "</tr>\n",
       "<tr>\n",
       "  <th>Gears</th>         <td>  598.2336</td> <td>  224.587</td> <td>    2.664</td> <td> 0.008</td> <td>  157.516</td> <td> 1038.951</td>\n",
       "</tr>\n",
       "<tr>\n",
       "  <th>Quarterly_Tax</th> <td>    5.0257</td> <td>    1.552</td> <td>    3.238</td> <td> 0.001</td> <td>    1.980</td> <td>    8.072</td>\n",
       "</tr>\n",
       "<tr>\n",
       "  <th>Weight</th>        <td>   14.6493</td> <td>    1.261</td> <td>   11.616</td> <td> 0.000</td> <td>   12.174</td> <td>   17.124</td>\n",
       "</tr>\n",
       "</table>\n",
       "<table class=\"simpletable\">\n",
       "<tr>\n",
       "  <th>Omnibus:</th>       <td>93.681</td> <th>  Durbin-Watson:     </th> <td>   1.930</td> \n",
       "</tr>\n",
       "<tr>\n",
       "  <th>Prob(Omnibus):</th> <td> 0.000</td> <th>  Jarque-Bera (JB):  </th> <td> 573.969</td> \n",
       "</tr>\n",
       "<tr>\n",
       "  <th>Skew:</th>          <td>-0.100</td> <th>  Prob(JB):          </th> <td>2.31e-125</td>\n",
       "</tr>\n",
       "<tr>\n",
       "  <th>Kurtosis:</th>      <td> 6.697</td> <th>  Cond. No.          </th> <td>2.93e+06</td> \n",
       "</tr>\n",
       "</table><br/><br/>Warnings:<br/>[1] Standard Errors assume that the covariance matrix of the errors is correctly specified.<br/>[2] The condition number is large, 2.93e+06. This might indicate that there are<br/>strong multicollinearity or other numerical problems."
      ],
      "text/plain": [
       "<class 'statsmodels.iolib.summary.Summary'>\n",
       "\"\"\"\n",
       "                            OLS Regression Results                            \n",
       "==============================================================================\n",
       "Dep. Variable:                  Price   R-squared:                       0.852\n",
       "Model:                            OLS   Adj. R-squared:                  0.851\n",
       "Method:                 Least Squares   F-statistic:                     716.0\n",
       "Date:                Tue, 29 Dec 2020   Prob (F-statistic):               0.00\n",
       "Time:                        10:37:01   Log-Likelihood:                -8693.6\n",
       "No. Observations:                1005   AIC:                         1.741e+04\n",
       "Df Residuals:                     996   BIC:                         1.745e+04\n",
       "Df Model:                           8                                         \n",
       "Covariance Type:            nonrobust                                         \n",
       "=================================================================================\n",
       "                    coef    std err          t      P>|t|      [0.025      0.975]\n",
       "---------------------------------------------------------------------------------\n",
       "Intercept     -3558.6454   1642.473     -2.167      0.030   -6781.751    -335.540\n",
       "Age            -123.0685      3.240    -37.979      0.000    -129.427    -116.710\n",
       "KM               -0.0213      0.002    -13.638      0.000      -0.024      -0.018\n",
       "HP               34.5680      3.333     10.370      0.000      28.027      41.109\n",
       "cc               -0.0607      0.094     -0.644      0.520      -0.246       0.124\n",
       "Doors            17.7439     49.261      0.360      0.719     -78.922     114.410\n",
       "Gears           598.2336    224.587      2.664      0.008     157.516    1038.951\n",
       "Quarterly_Tax     5.0257      1.552      3.238      0.001       1.980       8.072\n",
       "Weight           14.6493      1.261     11.616      0.000      12.174      17.124\n",
       "==============================================================================\n",
       "Omnibus:                       93.681   Durbin-Watson:                   1.930\n",
       "Prob(Omnibus):                  0.000   Jarque-Bera (JB):              573.969\n",
       "Skew:                          -0.100   Prob(JB):                    2.31e-125\n",
       "Kurtosis:                       6.697   Cond. No.                     2.93e+06\n",
       "==============================================================================\n",
       "\n",
       "Warnings:\n",
       "[1] Standard Errors assume that the covariance matrix of the errors is correctly specified.\n",
       "[2] The condition number is large, 2.93e+06. This might indicate that there are\n",
       "strong multicollinearity or other numerical problems.\n",
       "\"\"\""
      ]
     },
     "execution_count": 57,
     "metadata": {},
     "output_type": "execute_result"
    }
   ],
   "source": [
    "finalmodel1 = smf.ols(\"Price~Age+KM+HP+cc+Doors+Gears+Quarterly_Tax+Weight\", data = train_data).fit()\n",
    "finalmodel1.summary()\n"
   ]
  },
  {
   "cell_type": "code",
   "execution_count": 69,
   "metadata": {},
   "outputs": [
    {
     "data": {
      "text/plain": [
       "226     13059.829877\n",
       "163     17888.888194\n",
       "1036     9750.359739\n",
       "156     17577.503169\n",
       "531     10979.199395\n",
       "            ...     \n",
       "638      9179.859432\n",
       "1112     7245.682465\n",
       "730      9988.624408\n",
       "601     15101.869955\n",
       "722     10019.581243\n",
       "Length: 1005, dtype: float64"
      ]
     },
     "execution_count": 69,
     "metadata": {},
     "output_type": "execute_result"
    }
   ],
   "source": [
    "## prediction\n",
    "finalmodel_pred = finalmodel1.predict(train_data)\n",
    "finalmodel_pred"
   ]
  },
  {
   "cell_type": "code",
   "execution_count": 70,
   "metadata": {},
   "outputs": [
    {
     "data": {
      "text/plain": [
       "226    -1109.829877\n",
       "163     1611.111806\n",
       "1036    -800.359739\n",
       "156     1922.496831\n",
       "531     -729.199395\n",
       "           ...     \n",
       "638     1270.140568\n",
       "1112     504.317535\n",
       "730     1511.375592\n",
       "601    -7601.869955\n",
       "722    -1269.581243\n",
       "Length: 1005, dtype: float64"
      ]
     },
     "execution_count": 70,
     "metadata": {},
     "output_type": "execute_result"
    }
   ],
   "source": [
    "#train residuals\n",
    "finalmodel_res = train_data[\"Price\"]-finalmodel_pred\n",
    "finalmodel_res"
   ]
  },
  {
   "cell_type": "code",
   "execution_count": 71,
   "metadata": {},
   "outputs": [
    {
     "data": {
      "text/plain": [
       "1382.1398746995606"
      ]
     },
     "execution_count": 71,
     "metadata": {},
     "output_type": "execute_result"
    }
   ],
   "source": [
    "##train rmse\n",
    "finalmodel_rmse = np.sqrt(np.mean(finalmodel_res*finalmodel_res))\n",
    "finalmodel_rmse"
   ]
  },
  {
   "cell_type": "code",
   "execution_count": 72,
   "metadata": {},
   "outputs": [
    {
     "data": {
      "text/plain": [
       "254     13127.495683\n",
       "499     10358.916199\n",
       "119     19742.955483\n",
       "301     12955.653782\n",
       "333     13157.329668\n",
       "            ...     \n",
       "86      15489.634988\n",
       "355     14141.433677\n",
       "1117     6233.023352\n",
       "394     10232.942121\n",
       "640      8157.673117\n",
       "Length: 431, dtype: float64"
      ]
     },
     "execution_count": 72,
     "metadata": {},
     "output_type": "execute_result"
    }
   ],
   "source": [
    "## test prediction\n",
    "finalmodel_testpred = finalmodel1.predict(test_Data)\n",
    "finalmodel_testpred "
   ]
  },
  {
   "cell_type": "code",
   "execution_count": 73,
   "metadata": {},
   "outputs": [
    {
     "data": {
      "text/plain": [
       "254    -3187.495683\n",
       "499     -408.916199\n",
       "119     2507.044517\n",
       "301     -455.653782\n",
       "333    -1407.329668\n",
       "           ...     \n",
       "86      -589.634988\n",
       "355     -391.433677\n",
       "1117    1366.976648\n",
       "394     -282.942121\n",
       "640     1792.326883\n",
       "Length: 431, dtype: float64"
      ]
     },
     "execution_count": 73,
     "metadata": {},
     "output_type": "execute_result"
    }
   ],
   "source": [
    "## test residuals\n",
    "finalmodel_testres= test_Data[\"Price\"]-finalmodel_testpred\n",
    "finalmodel_testres"
   ]
  },
  {
   "cell_type": "code",
   "execution_count": 74,
   "metadata": {},
   "outputs": [
    {
     "data": {
      "text/plain": [
       "1240.6856942028644"
      ]
     },
     "execution_count": 74,
     "metadata": {},
     "output_type": "execute_result"
    }
   ],
   "source": [
    "## test rmse\n",
    "finalmodel_testrmse = np.sqrt(np.mean(finalmodel_testres*finalmodel_testres))\n",
    "finalmodel_testrmse "
   ]
  },
  {
   "cell_type": "code",
   "execution_count": 68,
   "metadata": {},
   "outputs": [],
   "source": [
    "### train rmse is 1380 and test rmse is 1240"
   ]
  },
  {
   "cell_type": "code",
   "execution_count": null,
   "metadata": {},
   "outputs": [],
   "source": []
  }
 ],
 "metadata": {
  "kernelspec": {
   "display_name": "Python 3",
   "language": "python",
   "name": "python3"
  },
  "language_info": {
   "codemirror_mode": {
    "name": "ipython",
    "version": 3
   },
   "file_extension": ".py",
   "mimetype": "text/x-python",
   "name": "python",
   "nbconvert_exporter": "python",
   "pygments_lexer": "ipython3",
   "version": "3.8.3"
  }
 },
 "nbformat": 4,
 "nbformat_minor": 4
}
